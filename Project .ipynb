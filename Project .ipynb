{
 "cells": [
  {
   "cell_type": "code",
   "execution_count": 690,
   "id": "84e2ac5e",
   "metadata": {},
   "outputs": [],
   "source": [
    "import pandas as pd\n",
    "import numpy as np\n",
    "import matplotlib.pyplot as plt\n",
    "import seaborn as sns\n",
    "%matplotlib inline\n",
    "\n",
    "from sklearn.datasets import make_classification\n",
    "from sklearn.model_selection import train_test_split\n",
    "\n",
    "from sklearn.neighbors import KNeighborsClassifier\n",
    "from sklearn.preprocessing import StandardScaler\n",
    "from sklearn.metrics import classification_report, confusion_matrix, accuracy_score\n",
    "from numpy import loadtxt\n",
    "from xgboost import XGBClassifier\n",
    "from sklearn.metrics import plot_confusion_matrix\n",
    "from sklearn.ensemble import GradientBoostingClassifier\n",
    "from sklearn.ensemble import RandomForestClassifier\n",
    "\n",
    "# roc curve and auc score\n",
    "from sklearn.metrics import roc_curve\n",
    "from sklearn.metrics import roc_auc_score\n",
    "\n",
    "from sklearn.preprocessing import MinMaxScaler"
   ]
  },
  {
   "cell_type": "code",
   "execution_count": 691,
   "id": "36fed3f7",
   "metadata": {},
   "outputs": [],
   "source": [
    "import yfinance as yf"
   ]
  },
  {
   "cell_type": "code",
   "execution_count": 692,
   "id": "86d765b3",
   "metadata": {},
   "outputs": [],
   "source": [
    "# Import Google Stock data\n",
    "df = yf.download('GOOG', start='2015-01-01',end='2021-12-31',progress=False)"
   ]
  },
  {
   "cell_type": "code",
   "execution_count": 693,
   "id": "54f52993",
   "metadata": {},
   "outputs": [
    {
     "data": {
      "text/html": [
       "<div>\n",
       "<style scoped>\n",
       "    .dataframe tbody tr th:only-of-type {\n",
       "        vertical-align: middle;\n",
       "    }\n",
       "\n",
       "    .dataframe tbody tr th {\n",
       "        vertical-align: top;\n",
       "    }\n",
       "\n",
       "    .dataframe thead th {\n",
       "        text-align: right;\n",
       "    }\n",
       "</style>\n",
       "<table border=\"1\" class=\"dataframe\">\n",
       "  <thead>\n",
       "    <tr style=\"text-align: right;\">\n",
       "      <th></th>\n",
       "      <th>Open</th>\n",
       "      <th>High</th>\n",
       "      <th>Low</th>\n",
       "      <th>Close</th>\n",
       "      <th>Adj Close</th>\n",
       "      <th>Volume</th>\n",
       "    </tr>\n",
       "    <tr>\n",
       "      <th>Date</th>\n",
       "      <th></th>\n",
       "      <th></th>\n",
       "      <th></th>\n",
       "      <th></th>\n",
       "      <th></th>\n",
       "      <th></th>\n",
       "    </tr>\n",
       "  </thead>\n",
       "  <tbody>\n",
       "    <tr>\n",
       "      <th>2015-01-02</th>\n",
       "      <td>527.561584</td>\n",
       "      <td>529.815369</td>\n",
       "      <td>522.665039</td>\n",
       "      <td>523.373108</td>\n",
       "      <td>523.373108</td>\n",
       "      <td>1447563</td>\n",
       "    </tr>\n",
       "    <tr>\n",
       "      <th>2015-01-05</th>\n",
       "      <td>521.827332</td>\n",
       "      <td>522.894409</td>\n",
       "      <td>511.655243</td>\n",
       "      <td>512.463013</td>\n",
       "      <td>512.463013</td>\n",
       "      <td>2059840</td>\n",
       "    </tr>\n",
       "    <tr>\n",
       "      <th>2015-01-06</th>\n",
       "      <td>513.589966</td>\n",
       "      <td>514.761719</td>\n",
       "      <td>499.678131</td>\n",
       "      <td>500.585632</td>\n",
       "      <td>500.585632</td>\n",
       "      <td>2899940</td>\n",
       "    </tr>\n",
       "    <tr>\n",
       "      <th>2015-01-07</th>\n",
       "      <td>505.611847</td>\n",
       "      <td>505.855164</td>\n",
       "      <td>498.281952</td>\n",
       "      <td>499.727997</td>\n",
       "      <td>499.727997</td>\n",
       "      <td>2065054</td>\n",
       "    </tr>\n",
       "    <tr>\n",
       "      <th>2015-01-08</th>\n",
       "      <td>496.626526</td>\n",
       "      <td>502.101471</td>\n",
       "      <td>489.655640</td>\n",
       "      <td>501.303680</td>\n",
       "      <td>501.303680</td>\n",
       "      <td>3353582</td>\n",
       "    </tr>\n",
       "    <tr>\n",
       "      <th>...</th>\n",
       "      <td>...</td>\n",
       "      <td>...</td>\n",
       "      <td>...</td>\n",
       "      <td>...</td>\n",
       "      <td>...</td>\n",
       "      <td>...</td>\n",
       "    </tr>\n",
       "    <tr>\n",
       "      <th>2021-12-23</th>\n",
       "      <td>2941.790039</td>\n",
       "      <td>2971.451904</td>\n",
       "      <td>2939.017090</td>\n",
       "      <td>2942.850098</td>\n",
       "      <td>2942.850098</td>\n",
       "      <td>690900</td>\n",
       "    </tr>\n",
       "    <tr>\n",
       "      <th>2021-12-27</th>\n",
       "      <td>2949.270020</td>\n",
       "      <td>2968.530029</td>\n",
       "      <td>2945.000000</td>\n",
       "      <td>2961.280029</td>\n",
       "      <td>2961.280029</td>\n",
       "      <td>662800</td>\n",
       "    </tr>\n",
       "    <tr>\n",
       "      <th>2021-12-28</th>\n",
       "      <td>2967.489990</td>\n",
       "      <td>2967.489990</td>\n",
       "      <td>2918.709961</td>\n",
       "      <td>2928.959961</td>\n",
       "      <td>2928.959961</td>\n",
       "      <td>931200</td>\n",
       "    </tr>\n",
       "    <tr>\n",
       "      <th>2021-12-29</th>\n",
       "      <td>2928.590088</td>\n",
       "      <td>2943.675049</td>\n",
       "      <td>2910.090088</td>\n",
       "      <td>2930.090088</td>\n",
       "      <td>2930.090088</td>\n",
       "      <td>851100</td>\n",
       "    </tr>\n",
       "    <tr>\n",
       "      <th>2021-12-30</th>\n",
       "      <td>2929.000000</td>\n",
       "      <td>2941.250000</td>\n",
       "      <td>2915.169922</td>\n",
       "      <td>2920.050049</td>\n",
       "      <td>2920.050049</td>\n",
       "      <td>648900</td>\n",
       "    </tr>\n",
       "  </tbody>\n",
       "</table>\n",
       "<p>1762 rows × 6 columns</p>\n",
       "</div>"
      ],
      "text/plain": [
       "                   Open         High          Low        Close    Adj Close  \\\n",
       "Date                                                                          \n",
       "2015-01-02   527.561584   529.815369   522.665039   523.373108   523.373108   \n",
       "2015-01-05   521.827332   522.894409   511.655243   512.463013   512.463013   \n",
       "2015-01-06   513.589966   514.761719   499.678131   500.585632   500.585632   \n",
       "2015-01-07   505.611847   505.855164   498.281952   499.727997   499.727997   \n",
       "2015-01-08   496.626526   502.101471   489.655640   501.303680   501.303680   \n",
       "...                 ...          ...          ...          ...          ...   \n",
       "2021-12-23  2941.790039  2971.451904  2939.017090  2942.850098  2942.850098   \n",
       "2021-12-27  2949.270020  2968.530029  2945.000000  2961.280029  2961.280029   \n",
       "2021-12-28  2967.489990  2967.489990  2918.709961  2928.959961  2928.959961   \n",
       "2021-12-29  2928.590088  2943.675049  2910.090088  2930.090088  2930.090088   \n",
       "2021-12-30  2929.000000  2941.250000  2915.169922  2920.050049  2920.050049   \n",
       "\n",
       "             Volume  \n",
       "Date                 \n",
       "2015-01-02  1447563  \n",
       "2015-01-05  2059840  \n",
       "2015-01-06  2899940  \n",
       "2015-01-07  2065054  \n",
       "2015-01-08  3353582  \n",
       "...             ...  \n",
       "2021-12-23   690900  \n",
       "2021-12-27   662800  \n",
       "2021-12-28   931200  \n",
       "2021-12-29   851100  \n",
       "2021-12-30   648900  \n",
       "\n",
       "[1762 rows x 6 columns]"
      ]
     },
     "execution_count": 693,
     "metadata": {},
     "output_type": "execute_result"
    }
   ],
   "source": [
    "df"
   ]
  },
  {
   "cell_type": "code",
   "execution_count": 694,
   "id": "49a49ac1",
   "metadata": {
    "scrolled": true
   },
   "outputs": [
    {
     "name": "stdout",
     "output_type": "stream",
     "text": [
      "<class 'pandas.core.frame.DataFrame'>\n",
      "DatetimeIndex: 1762 entries, 2015-01-02 to 2021-12-30\n",
      "Data columns (total 6 columns):\n",
      " #   Column     Non-Null Count  Dtype  \n",
      "---  ------     --------------  -----  \n",
      " 0   Open       1762 non-null   float64\n",
      " 1   High       1762 non-null   float64\n",
      " 2   Low        1762 non-null   float64\n",
      " 3   Close      1762 non-null   float64\n",
      " 4   Adj Close  1762 non-null   float64\n",
      " 5   Volume     1762 non-null   int64  \n",
      "dtypes: float64(5), int64(1)\n",
      "memory usage: 96.4 KB\n"
     ]
    }
   ],
   "source": [
    "df.info()"
   ]
  },
  {
   "cell_type": "code",
   "execution_count": 695,
   "id": "28a79544",
   "metadata": {
    "scrolled": true
   },
   "outputs": [
    {
     "data": {
      "text/html": [
       "<div>\n",
       "<style scoped>\n",
       "    .dataframe tbody tr th:only-of-type {\n",
       "        vertical-align: middle;\n",
       "    }\n",
       "\n",
       "    .dataframe tbody tr th {\n",
       "        vertical-align: top;\n",
       "    }\n",
       "\n",
       "    .dataframe thead th {\n",
       "        text-align: right;\n",
       "    }\n",
       "</style>\n",
       "<table border=\"1\" class=\"dataframe\">\n",
       "  <thead>\n",
       "    <tr style=\"text-align: right;\">\n",
       "      <th></th>\n",
       "      <th>Open</th>\n",
       "      <th>High</th>\n",
       "      <th>Low</th>\n",
       "      <th>Close</th>\n",
       "      <th>Adj Close</th>\n",
       "      <th>Volume</th>\n",
       "    </tr>\n",
       "  </thead>\n",
       "  <tbody>\n",
       "    <tr>\n",
       "      <th>count</th>\n",
       "      <td>1762.000000</td>\n",
       "      <td>1762.000000</td>\n",
       "      <td>1762.000000</td>\n",
       "      <td>1762.000000</td>\n",
       "      <td>1762.000000</td>\n",
       "      <td>1.762000e+03</td>\n",
       "    </tr>\n",
       "    <tr>\n",
       "      <th>mean</th>\n",
       "      <td>1221.600090</td>\n",
       "      <td>1233.260304</td>\n",
       "      <td>1210.550251</td>\n",
       "      <td>1222.418766</td>\n",
       "      <td>1222.418766</td>\n",
       "      <td>1.670640e+06</td>\n",
       "    </tr>\n",
       "    <tr>\n",
       "      <th>std</th>\n",
       "      <td>612.071235</td>\n",
       "      <td>617.761268</td>\n",
       "      <td>606.994075</td>\n",
       "      <td>612.695117</td>\n",
       "      <td>612.695117</td>\n",
       "      <td>8.151896e+05</td>\n",
       "    </tr>\n",
       "    <tr>\n",
       "      <th>min</th>\n",
       "      <td>493.295654</td>\n",
       "      <td>494.618011</td>\n",
       "      <td>486.225067</td>\n",
       "      <td>491.201416</td>\n",
       "      <td>491.201416</td>\n",
       "      <td>3.468000e+05</td>\n",
       "    </tr>\n",
       "    <tr>\n",
       "      <th>25%</th>\n",
       "      <td>774.312500</td>\n",
       "      <td>779.562515</td>\n",
       "      <td>768.971237</td>\n",
       "      <td>772.955002</td>\n",
       "      <td>772.955002</td>\n",
       "      <td>1.188700e+06</td>\n",
       "    </tr>\n",
       "    <tr>\n",
       "      <th>50%</th>\n",
       "      <td>1083.015015</td>\n",
       "      <td>1094.207520</td>\n",
       "      <td>1071.102478</td>\n",
       "      <td>1082.619995</td>\n",
       "      <td>1082.619995</td>\n",
       "      <td>1.466400e+06</td>\n",
       "    </tr>\n",
       "    <tr>\n",
       "      <th>75%</th>\n",
       "      <td>1391.759979</td>\n",
       "      <td>1412.464996</td>\n",
       "      <td>1378.537994</td>\n",
       "      <td>1393.992462</td>\n",
       "      <td>1393.992462</td>\n",
       "      <td>1.907000e+06</td>\n",
       "    </tr>\n",
       "    <tr>\n",
       "      <th>max</th>\n",
       "      <td>3020.000000</td>\n",
       "      <td>3037.000000</td>\n",
       "      <td>2997.750000</td>\n",
       "      <td>3014.179932</td>\n",
       "      <td>3014.179932</td>\n",
       "      <td>1.116490e+07</td>\n",
       "    </tr>\n",
       "  </tbody>\n",
       "</table>\n",
       "</div>"
      ],
      "text/plain": [
       "              Open         High          Low        Close    Adj Close  \\\n",
       "count  1762.000000  1762.000000  1762.000000  1762.000000  1762.000000   \n",
       "mean   1221.600090  1233.260304  1210.550251  1222.418766  1222.418766   \n",
       "std     612.071235   617.761268   606.994075   612.695117   612.695117   \n",
       "min     493.295654   494.618011   486.225067   491.201416   491.201416   \n",
       "25%     774.312500   779.562515   768.971237   772.955002   772.955002   \n",
       "50%    1083.015015  1094.207520  1071.102478  1082.619995  1082.619995   \n",
       "75%    1391.759979  1412.464996  1378.537994  1393.992462  1393.992462   \n",
       "max    3020.000000  3037.000000  2997.750000  3014.179932  3014.179932   \n",
       "\n",
       "             Volume  \n",
       "count  1.762000e+03  \n",
       "mean   1.670640e+06  \n",
       "std    8.151896e+05  \n",
       "min    3.468000e+05  \n",
       "25%    1.188700e+06  \n",
       "50%    1.466400e+06  \n",
       "75%    1.907000e+06  \n",
       "max    1.116490e+07  "
      ]
     },
     "execution_count": 695,
     "metadata": {},
     "output_type": "execute_result"
    }
   ],
   "source": [
    "df.describe()"
   ]
  },
  {
   "cell_type": "code",
   "execution_count": 696,
   "id": "892a8dd9",
   "metadata": {},
   "outputs": [
    {
     "data": {
      "text/plain": [
       "(1762, 6)"
      ]
     },
     "execution_count": 696,
     "metadata": {},
     "output_type": "execute_result"
    }
   ],
   "source": [
    "df.shape"
   ]
  },
  {
   "cell_type": "code",
   "execution_count": 697,
   "id": "4267651c",
   "metadata": {},
   "outputs": [],
   "source": [
    "data = df"
   ]
  },
  {
   "cell_type": "code",
   "execution_count": 698,
   "id": "a8b8c5fd",
   "metadata": {
    "scrolled": true
   },
   "outputs": [
    {
     "data": {
      "text/plain": [
       "Open         0\n",
       "High         0\n",
       "Low          0\n",
       "Close        0\n",
       "Adj Close    0\n",
       "Volume       0\n",
       "dtype: int64"
      ]
     },
     "execution_count": 698,
     "metadata": {},
     "output_type": "execute_result"
    }
   ],
   "source": [
    "data.isnull().sum()"
   ]
  },
  {
   "cell_type": "code",
   "execution_count": 699,
   "id": "18caeaf6",
   "metadata": {
    "scrolled": true
   },
   "outputs": [
    {
     "data": {
      "text/plain": [
       "<AxesSubplot:xlabel='Date'>"
      ]
     },
     "execution_count": 699,
     "metadata": {},
     "output_type": "execute_result"
    },
    {
     "data": {
      "image/png": "[encoded data removed]",
      "text/plain": [
       "<Figure size 432x288 with 1 Axes>"
      ]
     },
     "metadata": {
      "needs_background": "light"
     },
     "output_type": "display_data"
    }
   ],
   "source": [
    "tmp = data.iloc[-1764:]\n",
    "tmp['High'].plot()"
   ]
  },
  {
   "cell_type": "markdown",
   "id": "5116e879",
   "metadata": {},
   "source": [
    "# Strategy - 1"
   ]
  },
  {
   "cell_type": "code",
   "execution_count": 700,
   "id": "ecce98a5",
   "metadata": {},
   "outputs": [],
   "source": [
    "data = df.copy()\n",
    "data[\"y\"] = np.where(data[\"Close\"].shift(-1) > data[\"Close\"], 1, -1)"
   ]
  },
  {
   "cell_type": "code",
   "execution_count": 701,
   "id": "406f62c7",
   "metadata": {
    "scrolled": false
   },
   "outputs": [
    {
     "data": {
      "text/html": [
       "<div>\n",
       "<style scoped>\n",
       "    .dataframe tbody tr th:only-of-type {\n",
       "        vertical-align: middle;\n",
       "    }\n",
       "\n",
       "    .dataframe tbody tr th {\n",
       "        vertical-align: top;\n",
       "    }\n",
       "\n",
       "    .dataframe thead th {\n",
       "        text-align: right;\n",
       "    }\n",
       "</style>\n",
       "<table border=\"1\" class=\"dataframe\">\n",
       "  <thead>\n",
       "    <tr style=\"text-align: right;\">\n",
       "      <th></th>\n",
       "      <th>Open</th>\n",
       "      <th>High</th>\n",
       "      <th>Low</th>\n",
       "      <th>Close</th>\n",
       "      <th>Adj Close</th>\n",
       "      <th>Volume</th>\n",
       "      <th>y</th>\n",
       "    </tr>\n",
       "    <tr>\n",
       "      <th>Date</th>\n",
       "      <th></th>\n",
       "      <th></th>\n",
       "      <th></th>\n",
       "      <th></th>\n",
       "      <th></th>\n",
       "      <th></th>\n",
       "      <th></th>\n",
       "    </tr>\n",
       "  </thead>\n",
       "  <tbody>\n",
       "    <tr>\n",
       "      <th>2015-01-02</th>\n",
       "      <td>527.561584</td>\n",
       "      <td>529.815369</td>\n",
       "      <td>522.665039</td>\n",
       "      <td>523.373108</td>\n",
       "      <td>523.373108</td>\n",
       "      <td>1447563</td>\n",
       "      <td>-1</td>\n",
       "    </tr>\n",
       "    <tr>\n",
       "      <th>2015-01-05</th>\n",
       "      <td>521.827332</td>\n",
       "      <td>522.894409</td>\n",
       "      <td>511.655243</td>\n",
       "      <td>512.463013</td>\n",
       "      <td>512.463013</td>\n",
       "      <td>2059840</td>\n",
       "      <td>-1</td>\n",
       "    </tr>\n",
       "    <tr>\n",
       "      <th>2015-01-06</th>\n",
       "      <td>513.589966</td>\n",
       "      <td>514.761719</td>\n",
       "      <td>499.678131</td>\n",
       "      <td>500.585632</td>\n",
       "      <td>500.585632</td>\n",
       "      <td>2899940</td>\n",
       "      <td>-1</td>\n",
       "    </tr>\n",
       "    <tr>\n",
       "      <th>2015-01-07</th>\n",
       "      <td>505.611847</td>\n",
       "      <td>505.855164</td>\n",
       "      <td>498.281952</td>\n",
       "      <td>499.727997</td>\n",
       "      <td>499.727997</td>\n",
       "      <td>2065054</td>\n",
       "      <td>1</td>\n",
       "    </tr>\n",
       "    <tr>\n",
       "      <th>2015-01-08</th>\n",
       "      <td>496.626526</td>\n",
       "      <td>502.101471</td>\n",
       "      <td>489.655640</td>\n",
       "      <td>501.303680</td>\n",
       "      <td>501.303680</td>\n",
       "      <td>3353582</td>\n",
       "      <td>-1</td>\n",
       "    </tr>\n",
       "    <tr>\n",
       "      <th>...</th>\n",
       "      <td>...</td>\n",
       "      <td>...</td>\n",
       "      <td>...</td>\n",
       "      <td>...</td>\n",
       "      <td>...</td>\n",
       "      <td>...</td>\n",
       "      <td>...</td>\n",
       "    </tr>\n",
       "    <tr>\n",
       "      <th>2021-12-23</th>\n",
       "      <td>2941.790039</td>\n",
       "      <td>2971.451904</td>\n",
       "      <td>2939.017090</td>\n",
       "      <td>2942.850098</td>\n",
       "      <td>2942.850098</td>\n",
       "      <td>690900</td>\n",
       "      <td>1</td>\n",
       "    </tr>\n",
       "    <tr>\n",
       "      <th>2021-12-27</th>\n",
       "      <td>2949.270020</td>\n",
       "      <td>2968.530029</td>\n",
       "      <td>2945.000000</td>\n",
       "      <td>2961.280029</td>\n",
       "      <td>2961.280029</td>\n",
       "      <td>662800</td>\n",
       "      <td>-1</td>\n",
       "    </tr>\n",
       "    <tr>\n",
       "      <th>2021-12-28</th>\n",
       "      <td>2967.489990</td>\n",
       "      <td>2967.489990</td>\n",
       "      <td>2918.709961</td>\n",
       "      <td>2928.959961</td>\n",
       "      <td>2928.959961</td>\n",
       "      <td>931200</td>\n",
       "      <td>1</td>\n",
       "    </tr>\n",
       "    <tr>\n",
       "      <th>2021-12-29</th>\n",
       "      <td>2928.590088</td>\n",
       "      <td>2943.675049</td>\n",
       "      <td>2910.090088</td>\n",
       "      <td>2930.090088</td>\n",
       "      <td>2930.090088</td>\n",
       "      <td>851100</td>\n",
       "      <td>-1</td>\n",
       "    </tr>\n",
       "    <tr>\n",
       "      <th>2021-12-30</th>\n",
       "      <td>2929.000000</td>\n",
       "      <td>2941.250000</td>\n",
       "      <td>2915.169922</td>\n",
       "      <td>2920.050049</td>\n",
       "      <td>2920.050049</td>\n",
       "      <td>648900</td>\n",
       "      <td>-1</td>\n",
       "    </tr>\n",
       "  </tbody>\n",
       "</table>\n",
       "<p>1762 rows × 7 columns</p>\n",
       "</div>"
      ],
      "text/plain": [
       "                   Open         High          Low        Close    Adj Close  \\\n",
       "Date                                                                          \n",
       "2015-01-02   527.561584   529.815369   522.665039   523.373108   523.373108   \n",
       "2015-01-05   521.827332   522.894409   511.655243   512.463013   512.463013   \n",
       "2015-01-06   513.589966   514.761719   499.678131   500.585632   500.585632   \n",
       "2015-01-07   505.611847   505.855164   498.281952   499.727997   499.727997   \n",
       "2015-01-08   496.626526   502.101471   489.655640   501.303680   501.303680   \n",
       "...                 ...          ...          ...          ...          ...   \n",
       "2021-12-23  2941.790039  2971.451904  2939.017090  2942.850098  2942.850098   \n",
       "2021-12-27  2949.270020  2968.530029  2945.000000  2961.280029  2961.280029   \n",
       "2021-12-28  2967.489990  2967.489990  2918.709961  2928.959961  2928.959961   \n",
       "2021-12-29  2928.590088  2943.675049  2910.090088  2930.090088  2930.090088   \n",
       "2021-12-30  2929.000000  2941.250000  2915.169922  2920.050049  2920.050049   \n",
       "\n",
       "             Volume  y  \n",
       "Date                    \n",
       "2015-01-02  1447563 -1  \n",
       "2015-01-05  2059840 -1  \n",
       "2015-01-06  2899940 -1  \n",
       "2015-01-07  2065054  1  \n",
       "2015-01-08  3353582 -1  \n",
       "...             ... ..  \n",
       "2021-12-23   690900  1  \n",
       "2021-12-27   662800 -1  \n",
       "2021-12-28   931200  1  \n",
       "2021-12-29   851100 -1  \n",
       "2021-12-30   648900 -1  \n",
       "\n",
       "[1762 rows x 7 columns]"
      ]
     },
     "execution_count": 701,
     "metadata": {},
     "output_type": "execute_result"
    }
   ],
   "source": [
    "data = data.rename(columns={\"Close\":\"Close\"})\n",
    "data"
   ]
  },
  {
   "cell_type": "markdown",
   "id": "ab3cdc79",
   "metadata": {},
   "source": [
    "# Strategy - 2"
   ]
  },
  {
   "cell_type": "code",
   "execution_count": 702,
   "id": "bc16b2e3",
   "metadata": {},
   "outputs": [],
   "source": [
    "data2 = df.copy()\n",
    "data2[\"50_sma\"] = data2[\"Adj Close\"].rolling(50).mean()\n",
    "data2[\"200_sma\"] = data2[\"Adj Close\"].rolling(200).mean()\n",
    "\n",
    "data2 = data2.dropna() \n",
    "data2[\"signal\"] = data2.apply(lambda row: 1 if row[f\"50_sma\"] > row[f\"200_sma\"]  else 0, axis=1)\n"
   ]
  },
  {
   "cell_type": "code",
   "execution_count": 703,
   "id": "b5515043",
   "metadata": {
    "scrolled": true
   },
   "outputs": [
    {
     "data": {
      "text/html": [
       "<div>\n",
       "<style scoped>\n",
       "    .dataframe tbody tr th:only-of-type {\n",
       "        vertical-align: middle;\n",
       "    }\n",
       "\n",
       "    .dataframe tbody tr th {\n",
       "        vertical-align: top;\n",
       "    }\n",
       "\n",
       "    .dataframe thead th {\n",
       "        text-align: right;\n",
       "    }\n",
       "</style>\n",
       "<table border=\"1\" class=\"dataframe\">\n",
       "  <thead>\n",
       "    <tr style=\"text-align: right;\">\n",
       "      <th></th>\n",
       "      <th>Open</th>\n",
       "      <th>High</th>\n",
       "      <th>Low</th>\n",
       "      <th>Close</th>\n",
       "      <th>Adj Close</th>\n",
       "      <th>Volume</th>\n",
       "      <th>50_sma</th>\n",
       "      <th>200_sma</th>\n",
       "      <th>signal</th>\n",
       "    </tr>\n",
       "    <tr>\n",
       "      <th>Date</th>\n",
       "      <th></th>\n",
       "      <th></th>\n",
       "      <th></th>\n",
       "      <th></th>\n",
       "      <th></th>\n",
       "      <th></th>\n",
       "      <th></th>\n",
       "      <th></th>\n",
       "      <th></th>\n",
       "    </tr>\n",
       "  </thead>\n",
       "  <tbody>\n",
       "    <tr>\n",
       "      <th>2015-10-16</th>\n",
       "      <td>664.109985</td>\n",
       "      <td>664.969971</td>\n",
       "      <td>657.200012</td>\n",
       "      <td>662.200012</td>\n",
       "      <td>662.200012</td>\n",
       "      <td>1611100</td>\n",
       "      <td>630.552394</td>\n",
       "      <td>567.525658</td>\n",
       "      <td>1</td>\n",
       "    </tr>\n",
       "    <tr>\n",
       "      <th>2015-10-19</th>\n",
       "      <td>661.179993</td>\n",
       "      <td>666.820007</td>\n",
       "      <td>659.580017</td>\n",
       "      <td>666.099976</td>\n",
       "      <td>666.099976</td>\n",
       "      <td>1477300</td>\n",
       "      <td>631.168394</td>\n",
       "      <td>568.239293</td>\n",
       "      <td>1</td>\n",
       "    </tr>\n",
       "    <tr>\n",
       "      <th>2015-10-20</th>\n",
       "      <td>664.039978</td>\n",
       "      <td>664.719971</td>\n",
       "      <td>644.195007</td>\n",
       "      <td>650.280029</td>\n",
       "      <td>650.280029</td>\n",
       "      <td>2498200</td>\n",
       "      <td>631.499395</td>\n",
       "      <td>568.928378</td>\n",
       "      <td>1</td>\n",
       "    </tr>\n",
       "    <tr>\n",
       "      <th>2015-10-21</th>\n",
       "      <td>654.150024</td>\n",
       "      <td>655.869995</td>\n",
       "      <td>641.729980</td>\n",
       "      <td>642.609985</td>\n",
       "      <td>642.609985</td>\n",
       "      <td>1791100</td>\n",
       "      <td>631.135994</td>\n",
       "      <td>569.638499</td>\n",
       "      <td>1</td>\n",
       "    </tr>\n",
       "    <tr>\n",
       "      <th>2015-10-22</th>\n",
       "      <td>646.700012</td>\n",
       "      <td>657.799988</td>\n",
       "      <td>644.010010</td>\n",
       "      <td>651.789978</td>\n",
       "      <td>651.789978</td>\n",
       "      <td>4071000</td>\n",
       "      <td>630.980593</td>\n",
       "      <td>570.398809</td>\n",
       "      <td>1</td>\n",
       "    </tr>\n",
       "    <tr>\n",
       "      <th>...</th>\n",
       "      <td>...</td>\n",
       "      <td>...</td>\n",
       "      <td>...</td>\n",
       "      <td>...</td>\n",
       "      <td>...</td>\n",
       "      <td>...</td>\n",
       "      <td>...</td>\n",
       "      <td>...</td>\n",
       "      <td>...</td>\n",
       "    </tr>\n",
       "    <tr>\n",
       "      <th>2021-12-23</th>\n",
       "      <td>2941.790039</td>\n",
       "      <td>2971.451904</td>\n",
       "      <td>2939.017090</td>\n",
       "      <td>2942.850098</td>\n",
       "      <td>2942.850098</td>\n",
       "      <td>690900</td>\n",
       "      <td>2912.677207</td>\n",
       "      <td>2628.971300</td>\n",
       "      <td>1</td>\n",
       "    </tr>\n",
       "    <tr>\n",
       "      <th>2021-12-27</th>\n",
       "      <td>2949.270020</td>\n",
       "      <td>2968.530029</td>\n",
       "      <td>2945.000000</td>\n",
       "      <td>2961.280029</td>\n",
       "      <td>2961.280029</td>\n",
       "      <td>662800</td>\n",
       "      <td>2915.338008</td>\n",
       "      <td>2633.468101</td>\n",
       "      <td>1</td>\n",
       "    </tr>\n",
       "    <tr>\n",
       "      <th>2021-12-28</th>\n",
       "      <td>2967.489990</td>\n",
       "      <td>2967.489990</td>\n",
       "      <td>2918.709961</td>\n",
       "      <td>2928.959961</td>\n",
       "      <td>2928.959961</td>\n",
       "      <td>931200</td>\n",
       "      <td>2917.247207</td>\n",
       "      <td>2637.780450</td>\n",
       "      <td>1</td>\n",
       "    </tr>\n",
       "    <tr>\n",
       "      <th>2021-12-29</th>\n",
       "      <td>2928.590088</td>\n",
       "      <td>2943.675049</td>\n",
       "      <td>2910.090088</td>\n",
       "      <td>2930.090088</td>\n",
       "      <td>2930.090088</td>\n",
       "      <td>851100</td>\n",
       "      <td>2918.664810</td>\n",
       "      <td>2641.968301</td>\n",
       "      <td>1</td>\n",
       "    </tr>\n",
       "    <tr>\n",
       "      <th>2021-12-30</th>\n",
       "      <td>2929.000000</td>\n",
       "      <td>2941.250000</td>\n",
       "      <td>2915.169922</td>\n",
       "      <td>2920.050049</td>\n",
       "      <td>2920.050049</td>\n",
       "      <td>648900</td>\n",
       "      <td>2919.537012</td>\n",
       "      <td>2646.113151</td>\n",
       "      <td>1</td>\n",
       "    </tr>\n",
       "  </tbody>\n",
       "</table>\n",
       "<p>1563 rows × 9 columns</p>\n",
       "</div>"
      ],
      "text/plain": [
       "                   Open         High          Low        Close    Adj Close  \\\n",
       "Date                                                                          \n",
       "2015-10-16   664.109985   664.969971   657.200012   662.200012   662.200012   \n",
       "2015-10-19   661.179993   666.820007   659.580017   666.099976   666.099976   \n",
       "2015-10-20   664.039978   664.719971   644.195007   650.280029   650.280029   \n",
       "2015-10-21   654.150024   655.869995   641.729980   642.609985   642.609985   \n",
       "2015-10-22   646.700012   657.799988   644.010010   651.789978   651.789978   \n",
       "...                 ...          ...          ...          ...          ...   \n",
       "2021-12-23  2941.790039  2971.451904  2939.017090  2942.850098  2942.850098   \n",
       "2021-12-27  2949.270020  2968.530029  2945.000000  2961.280029  2961.280029   \n",
       "2021-12-28  2967.489990  2967.489990  2918.709961  2928.959961  2928.959961   \n",
       "2021-12-29  2928.590088  2943.675049  2910.090088  2930.090088  2930.090088   \n",
       "2021-12-30  2929.000000  2941.250000  2915.169922  2920.050049  2920.050049   \n",
       "\n",
       "             Volume       50_sma      200_sma  signal  \n",
       "Date                                                   \n",
       "2015-10-16  1611100   630.552394   567.525658       1  \n",
       "2015-10-19  1477300   631.168394   568.239293       1  \n",
       "2015-10-20  2498200   631.499395   568.928378       1  \n",
       "2015-10-21  1791100   631.135994   569.638499       1  \n",
       "2015-10-22  4071000   630.980593   570.398809       1  \n",
       "...             ...          ...          ...     ...  \n",
       "2021-12-23   690900  2912.677207  2628.971300       1  \n",
       "2021-12-27   662800  2915.338008  2633.468101       1  \n",
       "2021-12-28   931200  2917.247207  2637.780450       1  \n",
       "2021-12-29   851100  2918.664810  2641.968301       1  \n",
       "2021-12-30   648900  2919.537012  2646.113151       1  \n",
       "\n",
       "[1563 rows x 9 columns]"
      ]
     },
     "execution_count": 703,
     "metadata": {},
     "output_type": "execute_result"
    }
   ],
   "source": [
    "data2"
   ]
  },
  {
   "cell_type": "code",
   "execution_count": 764,
   "id": "d0b895de",
   "metadata": {},
   "outputs": [],
   "source": [
    "list_golden_cross_ts = []\n",
    "first_golden_cross = False"
   ]
  },
  {
   "cell_type": "code",
   "execution_count": 766,
   "id": "b839e228",
   "metadata": {},
   "outputs": [],
   "source": [
    "for idx, each in data2['signal'].iteritems():\n",
    "    if each == 1:\n",
    "        # If its the first golden cross we see we add the timestamp\n",
    "        if first_golden_cross:\n",
    "            list_golden_cross_ts.append(idx)\n",
    "            first_golden_cross = False\n",
    "    else:\n",
    "        first_golden_cross = True"
   ]
  },
  {
   "cell_type": "code",
   "execution_count": 768,
   "id": "4667635b",
   "metadata": {},
   "outputs": [
    {
     "data": {
      "image/png": "[encoded data removed]",
      "text/plain": [
       "<Figure size 576x288 with 1 Axes>"
      ]
     },
     "metadata": {
      "needs_background": "light"
     },
     "output_type": "display_data"
    }
   ],
   "source": [
    "fig, axes = plt.subplots(1,1, figsize=(8,4))\n",
    "data2[[\"200_sma\",\"50_sma\",\"Adj Close\"]].plot(figsize=(8,4), grid=True, title=\"SMA 50 vs SMA 200 on AAPL prices\", ax=axes)\n",
    "\n",
    "for each in list_golden_cross_ts:\n",
    "    axes.axvline(x=each, label=\"Golden Cross\", c=\"yellow\")\n",
    "    \n",
    "axes.legend()\n",
    "fig.tight_layout()"
   ]
  },
  {
   "cell_type": "markdown",
   "id": "01ee9fb6",
   "metadata": {},
   "source": [
    "# Spilting Data Strategy 1"
   ]
  },
  {
   "cell_type": "code",
   "execution_count": 704,
   "id": "c7086cb9",
   "metadata": {},
   "outputs": [],
   "source": [
    "training_set = data.iloc[:,1:2].values"
   ]
  },
  {
   "cell_type": "code",
   "execution_count": 705,
   "id": "5935c167",
   "metadata": {},
   "outputs": [
    {
     "data": {
      "text/plain": [
       "array([[ 529.81536865],\n",
       "       [ 522.89440918],\n",
       "       [ 514.76171875],\n",
       "       ...,\n",
       "       [2967.48999023],\n",
       "       [2943.67504883],\n",
       "       [2941.25      ]])"
      ]
     },
     "execution_count": 705,
     "metadata": {},
     "output_type": "execute_result"
    }
   ],
   "source": [
    "training_set"
   ]
  },
  {
   "cell_type": "code",
   "execution_count": 706,
   "id": "5ba5411d",
   "metadata": {},
   "outputs": [
    {
     "data": {
      "text/plain": [
       "(1762, 1)"
      ]
     },
     "execution_count": 706,
     "metadata": {},
     "output_type": "execute_result"
    }
   ],
   "source": [
    "training_set.shape"
   ]
  },
  {
   "cell_type": "code",
   "execution_count": 707,
   "id": "818de85d",
   "metadata": {
    "scrolled": true
   },
   "outputs": [
    {
     "data": {
      "text/plain": [
       "array([[0.01384424],\n",
       "       [0.01112201],\n",
       "       [0.00792316],\n",
       "       ...,\n",
       "       [0.97265949],\n",
       "       [0.96329232],\n",
       "       [0.96233847]])"
      ]
     },
     "execution_count": 707,
     "metadata": {},
     "output_type": "execute_result"
    }
   ],
   "source": [
    "from sklearn.preprocessing import MinMaxScaler\n",
    "\n",
    "scaler = MinMaxScaler(feature_range = (0,1))\n",
    "scaled_training_set = scaler.fit_transform(training_set)\n",
    "\n",
    "scaled_training_set"
   ]
  },
  {
   "cell_type": "code",
   "execution_count": 708,
   "id": "91cf8781",
   "metadata": {
    "scrolled": false
   },
   "outputs": [
    {
     "data": {
      "text/html": [
       "<div>\n",
       "<style scoped>\n",
       "    .dataframe tbody tr th:only-of-type {\n",
       "        vertical-align: middle;\n",
       "    }\n",
       "\n",
       "    .dataframe tbody tr th {\n",
       "        vertical-align: top;\n",
       "    }\n",
       "\n",
       "    .dataframe thead th {\n",
       "        text-align: right;\n",
       "    }\n",
       "</style>\n",
       "<table border=\"1\" class=\"dataframe\">\n",
       "  <thead>\n",
       "    <tr style=\"text-align: right;\">\n",
       "      <th></th>\n",
       "      <th>Open</th>\n",
       "      <th>High</th>\n",
       "      <th>Low</th>\n",
       "      <th>Close</th>\n",
       "      <th>Adj Close</th>\n",
       "      <th>Volume</th>\n",
       "      <th>y</th>\n",
       "    </tr>\n",
       "    <tr>\n",
       "      <th>Date</th>\n",
       "      <th></th>\n",
       "      <th></th>\n",
       "      <th></th>\n",
       "      <th></th>\n",
       "      <th></th>\n",
       "      <th></th>\n",
       "      <th></th>\n",
       "    </tr>\n",
       "  </thead>\n",
       "  <tbody>\n",
       "    <tr>\n",
       "      <th>2015-01-02</th>\n",
       "      <td>527.561584</td>\n",
       "      <td>529.815369</td>\n",
       "      <td>522.665039</td>\n",
       "      <td>523.373108</td>\n",
       "      <td>523.373108</td>\n",
       "      <td>1447563</td>\n",
       "      <td>-1</td>\n",
       "    </tr>\n",
       "    <tr>\n",
       "      <th>2015-01-05</th>\n",
       "      <td>521.827332</td>\n",
       "      <td>522.894409</td>\n",
       "      <td>511.655243</td>\n",
       "      <td>512.463013</td>\n",
       "      <td>512.463013</td>\n",
       "      <td>2059840</td>\n",
       "      <td>-1</td>\n",
       "    </tr>\n",
       "    <tr>\n",
       "      <th>2015-01-06</th>\n",
       "      <td>513.589966</td>\n",
       "      <td>514.761719</td>\n",
       "      <td>499.678131</td>\n",
       "      <td>500.585632</td>\n",
       "      <td>500.585632</td>\n",
       "      <td>2899940</td>\n",
       "      <td>-1</td>\n",
       "    </tr>\n",
       "    <tr>\n",
       "      <th>2015-01-07</th>\n",
       "      <td>505.611847</td>\n",
       "      <td>505.855164</td>\n",
       "      <td>498.281952</td>\n",
       "      <td>499.727997</td>\n",
       "      <td>499.727997</td>\n",
       "      <td>2065054</td>\n",
       "      <td>1</td>\n",
       "    </tr>\n",
       "    <tr>\n",
       "      <th>2015-01-08</th>\n",
       "      <td>496.626526</td>\n",
       "      <td>502.101471</td>\n",
       "      <td>489.655640</td>\n",
       "      <td>501.303680</td>\n",
       "      <td>501.303680</td>\n",
       "      <td>3353582</td>\n",
       "      <td>-1</td>\n",
       "    </tr>\n",
       "    <tr>\n",
       "      <th>...</th>\n",
       "      <td>...</td>\n",
       "      <td>...</td>\n",
       "      <td>...</td>\n",
       "      <td>...</td>\n",
       "      <td>...</td>\n",
       "      <td>...</td>\n",
       "      <td>...</td>\n",
       "    </tr>\n",
       "    <tr>\n",
       "      <th>2021-12-23</th>\n",
       "      <td>2941.790039</td>\n",
       "      <td>2971.451904</td>\n",
       "      <td>2939.017090</td>\n",
       "      <td>2942.850098</td>\n",
       "      <td>2942.850098</td>\n",
       "      <td>690900</td>\n",
       "      <td>1</td>\n",
       "    </tr>\n",
       "    <tr>\n",
       "      <th>2021-12-27</th>\n",
       "      <td>2949.270020</td>\n",
       "      <td>2968.530029</td>\n",
       "      <td>2945.000000</td>\n",
       "      <td>2961.280029</td>\n",
       "      <td>2961.280029</td>\n",
       "      <td>662800</td>\n",
       "      <td>-1</td>\n",
       "    </tr>\n",
       "    <tr>\n",
       "      <th>2021-12-28</th>\n",
       "      <td>2967.489990</td>\n",
       "      <td>2967.489990</td>\n",
       "      <td>2918.709961</td>\n",
       "      <td>2928.959961</td>\n",
       "      <td>2928.959961</td>\n",
       "      <td>931200</td>\n",
       "      <td>1</td>\n",
       "    </tr>\n",
       "    <tr>\n",
       "      <th>2021-12-29</th>\n",
       "      <td>2928.590088</td>\n",
       "      <td>2943.675049</td>\n",
       "      <td>2910.090088</td>\n",
       "      <td>2930.090088</td>\n",
       "      <td>2930.090088</td>\n",
       "      <td>851100</td>\n",
       "      <td>-1</td>\n",
       "    </tr>\n",
       "    <tr>\n",
       "      <th>2021-12-30</th>\n",
       "      <td>2929.000000</td>\n",
       "      <td>2941.250000</td>\n",
       "      <td>2915.169922</td>\n",
       "      <td>2920.050049</td>\n",
       "      <td>2920.050049</td>\n",
       "      <td>648900</td>\n",
       "      <td>-1</td>\n",
       "    </tr>\n",
       "  </tbody>\n",
       "</table>\n",
       "<p>1762 rows × 7 columns</p>\n",
       "</div>"
      ],
      "text/plain": [
       "                   Open         High          Low        Close    Adj Close  \\\n",
       "Date                                                                          \n",
       "2015-01-02   527.561584   529.815369   522.665039   523.373108   523.373108   \n",
       "2015-01-05   521.827332   522.894409   511.655243   512.463013   512.463013   \n",
       "2015-01-06   513.589966   514.761719   499.678131   500.585632   500.585632   \n",
       "2015-01-07   505.611847   505.855164   498.281952   499.727997   499.727997   \n",
       "2015-01-08   496.626526   502.101471   489.655640   501.303680   501.303680   \n",
       "...                 ...          ...          ...          ...          ...   \n",
       "2021-12-23  2941.790039  2971.451904  2939.017090  2942.850098  2942.850098   \n",
       "2021-12-27  2949.270020  2968.530029  2945.000000  2961.280029  2961.280029   \n",
       "2021-12-28  2967.489990  2967.489990  2918.709961  2928.959961  2928.959961   \n",
       "2021-12-29  2928.590088  2943.675049  2910.090088  2930.090088  2930.090088   \n",
       "2021-12-30  2929.000000  2941.250000  2915.169922  2920.050049  2920.050049   \n",
       "\n",
       "             Volume  y  \n",
       "Date                    \n",
       "2015-01-02  1447563 -1  \n",
       "2015-01-05  2059840 -1  \n",
       "2015-01-06  2899940 -1  \n",
       "2015-01-07  2065054  1  \n",
       "2015-01-08  3353582 -1  \n",
       "...             ... ..  \n",
       "2021-12-23   690900  1  \n",
       "2021-12-27   662800 -1  \n",
       "2021-12-28   931200  1  \n",
       "2021-12-29   851100 -1  \n",
       "2021-12-30   648900 -1  \n",
       "\n",
       "[1762 rows x 7 columns]"
      ]
     },
     "execution_count": 708,
     "metadata": {},
     "output_type": "execute_result"
    }
   ],
   "source": [
    "data"
   ]
  },
  {
   "cell_type": "code",
   "execution_count": 709,
   "id": "4f855ebd",
   "metadata": {},
   "outputs": [],
   "source": [
    "#define_predictors\n",
    "X = data.drop(columns = [\"y\"])\n",
    "#define output variable\n",
    "y = data[\"y\"]"
   ]
  },
  {
   "cell_type": "code",
   "execution_count": 710,
   "id": "34340103",
   "metadata": {},
   "outputs": [
    {
     "name": "stdout",
     "output_type": "stream",
     "text": [
      "No. of training examples:1409\n",
      "No. of testing examples:353\n"
     ]
    }
   ],
   "source": [
    "X_train, X_test, y_train, y_test = train_test_split(X,y,test_size= 0.2)\n",
    "print(f\"No. of training examples:{X_train.shape[0]}\")\n",
    "print(f\"No. of testing examples:{X_test.shape[0]}\")"
   ]
  },
  {
   "cell_type": "markdown",
   "id": "f1381c1b",
   "metadata": {},
   "source": [
    "# 1. K-Nearest Neighbors (KNN)\n"
   ]
  },
  {
   "cell_type": "code",
   "execution_count": 711,
   "id": "4de80579",
   "metadata": {},
   "outputs": [],
   "source": [
    "#Fit the model in training set and using scalar transform\n",
    "scaler = StandardScaler()\n",
    "scaler.fit(X_train)\n",
    "X_train = scaler.transform(X_train)\n",
    "X_test = scaler.transform(X_test)"
   ]
  },
  {
   "cell_type": "code",
   "execution_count": 712,
   "id": "54811057",
   "metadata": {},
   "outputs": [
    {
     "data": {
      "text/plain": [
       "KNeighborsClassifier()"
      ]
     },
     "execution_count": 712,
     "metadata": {},
     "output_type": "execute_result"
    }
   ],
   "source": [
    "#using classifiers/model knn = 5\n",
    "classifier = KNeighborsClassifier(n_neighbors = 5)\n",
    "classifier.fit(X_train, y_train)"
   ]
  },
  {
   "cell_type": "code",
   "execution_count": 713,
   "id": "1a8ca639",
   "metadata": {},
   "outputs": [],
   "source": [
    "#Making the prediction system using classifier and prediction\n",
    "y_pred = classifier.predict(X_test)"
   ]
  },
  {
   "cell_type": "code",
   "execution_count": 714,
   "id": "12f4a1c9",
   "metadata": {},
   "outputs": [
    {
     "name": "stdout",
     "output_type": "stream",
     "text": [
      "Confusion Matrix:\n",
      "[[ 74  79]\n",
      " [ 83 117]]\n",
      "Classification Report:\n",
      "              precision    recall  f1-score   support\n",
      "\n",
      "          -1       0.47      0.48      0.48       153\n",
      "           1       0.60      0.58      0.59       200\n",
      "\n",
      "    accuracy                           0.54       353\n",
      "   macro avg       0.53      0.53      0.53       353\n",
      "weighted avg       0.54      0.54      0.54       353\n",
      "\n",
      "Accuracy: 54.107648725212464\n"
     ]
    }
   ],
   "source": [
    "#printing confusion matrix and model Accuracy\n",
    "result = confusion_matrix(y_test, y_pred)\n",
    "print(\"Confusion Matrix:\")\n",
    "print(result)\n",
    "result1 = classification_report(y_test, y_pred)\n",
    "print(\"Classification Report:\",)\n",
    "print (result1)\n",
    "knn_result = accuracy_score(y_test,y_pred)\n",
    "print(\"Accuracy:\",knn_result*100)"
   ]
  },
  {
   "cell_type": "code",
   "execution_count": 715,
   "id": "9abd6664",
   "metadata": {},
   "outputs": [
    {
     "name": "stdout",
     "output_type": "stream",
     "text": [
      "AUC: 0.54\n"
     ]
    },
    {
     "data": {
      "image/png": "[encoded data removed]",
      "text/plain": [
       "<Figure size 432x288 with 1 Axes>"
      ]
     },
     "metadata": {
      "needs_background": "light"
     },
     "output_type": "display_data"
    }
   ],
   "source": [
    "def plot_roc_curve(fpr, tpr):\n",
    "    plt.plot(fpr, tpr, color='orange', label='ROC')\n",
    "    plt.plot([0, 1], [0, 1], color='darkblue', linestyle='--')\n",
    "    plt.xlabel('False Positive Rate')\n",
    "    plt.ylabel('True Positive Rate')\n",
    "    plt.title('Receiver Operating Characteristic (ROC) Curve')\n",
    "    plt.legend()\n",
    "    plt.show()\n",
    "\n",
    "\n",
    "model = KNeighborsClassifier()\n",
    "model.fit(X_train, y_train)\n",
    "\n",
    "probs = model.predict_proba(X_test)\n",
    "\n",
    "probs = probs[:, 1]\n",
    "\n",
    "auc = roc_auc_score(y_test, probs)\n",
    "print('AUC: %.2f' % auc)\n",
    "\n",
    "fpr, tpr, thresholds = roc_curve(y_test, probs)\n",
    "plot_roc_curve(fpr, tpr)"
   ]
  },
  {
   "cell_type": "markdown",
   "id": "597804cc",
   "metadata": {},
   "source": [
    "# 2. Random Forest (RF)"
   ]
  },
  {
   "cell_type": "code",
   "execution_count": 716,
   "id": "8e86b915",
   "metadata": {},
   "outputs": [],
   "source": [
    "# Import the model we are using\n",
    "from sklearn.ensemble import RandomForestRegressor"
   ]
  },
  {
   "cell_type": "code",
   "execution_count": 717,
   "id": "67691839",
   "metadata": {},
   "outputs": [],
   "source": [
    "# Instantiate model with 1000 decision trees\n",
    "rf = RandomForestRegressor(n_estimators = 10, random_state = 42)"
   ]
  },
  {
   "cell_type": "code",
   "execution_count": 718,
   "id": "f1e6e089",
   "metadata": {},
   "outputs": [
    {
     "name": "stdout",
     "output_type": "stream",
     "text": [
      "Confusion Matrix:\n",
      "[[ 74  79]\n",
      " [ 83 117]]\n",
      "Classification Report:\n",
      "              precision    recall  f1-score   support\n",
      "\n",
      "          -1       0.47      0.48      0.48       153\n",
      "           1       0.60      0.58      0.59       200\n",
      "\n",
      "    accuracy                           0.54       353\n",
      "   macro avg       0.53      0.53      0.53       353\n",
      "weighted avg       0.54      0.54      0.54       353\n",
      "\n",
      "Accuracy: 54.107648725212464\n"
     ]
    }
   ],
   "source": [
    "#fit the model on train dataset\n",
    "model.fit(X_train, y_train)\n",
    "\n",
    "\n",
    "y_pred =  model.predict(X_test)\n",
    "\n",
    "#printing confusion matrix and model Accuracy\n",
    "result = confusion_matrix(y_test, y_pred)\n",
    "print(\"Confusion Matrix:\")\n",
    "print(result)\n",
    "result1 = classification_report(y_test, y_pred)\n",
    "print(\"Classification Report:\",)\n",
    "print (result1)\n",
    "rf_result = accuracy_score(y_test,y_pred)\n",
    "print(\"Accuracy:\",rf_result*100)"
   ]
  },
  {
   "cell_type": "code",
   "execution_count": 719,
   "id": "048e3fb5",
   "metadata": {},
   "outputs": [
    {
     "name": "stdout",
     "output_type": "stream",
     "text": [
      "AUC: 0.51\n"
     ]
    },
    {
     "data": {
      "image/png": "[encoded data removed]",
      "text/plain": [
       "<Figure size 432x288 with 1 Axes>"
      ]
     },
     "metadata": {
      "needs_background": "light"
     },
     "output_type": "display_data"
    }
   ],
   "source": [
    "def plot_roc_curve(fpr, tpr):\n",
    "    plt.plot(fpr, tpr, color='orange', label='ROC')\n",
    "    plt.plot([0, 1], [0, 1], color='darkblue', linestyle='--')\n",
    "    plt.xlabel('False Positive Rate')\n",
    "    plt.ylabel('True Positive Rate')\n",
    "    plt.title('Receiver Operating Characteristic (ROC) Curve')\n",
    "    plt.legend()\n",
    "    plt.show()\n",
    "\n",
    "\n",
    "model = RandomForestClassifier()\n",
    "model.fit(X_train, y_train)\n",
    "\n",
    "probs = model.predict_proba(X_test)\n",
    "\n",
    "probs = probs[:, 1]\n",
    "\n",
    "auc = roc_auc_score(y_test, probs)\n",
    "print('AUC: %.2f' % auc)\n",
    "\n",
    "fpr, tpr, thresholds = roc_curve(y_test, probs)\n",
    "plot_roc_curve(fpr, tpr)"
   ]
  },
  {
   "cell_type": "markdown",
   "id": "4280a86d",
   "metadata": {},
   "source": [
    "# 3. Gradient Boosting"
   ]
  },
  {
   "cell_type": "code",
   "execution_count": 720,
   "id": "0cdcf841",
   "metadata": {},
   "outputs": [],
   "source": [
    "from sklearn.ensemble import GradientBoostingClassifier"
   ]
  },
  {
   "cell_type": "code",
   "execution_count": 721,
   "id": "1389a3f6",
   "metadata": {},
   "outputs": [],
   "source": [
    "clf = GradientBoostingClassifier(n_estimators=100, learning_rate=1.0,max_depth=1, random_state=0).fit(X_train, y_train)"
   ]
  },
  {
   "cell_type": "code",
   "execution_count": 722,
   "id": "6fa78b2e",
   "metadata": {},
   "outputs": [
    {
     "name": "stdout",
     "output_type": "stream",
     "text": [
      "Confusion Matrix:\n",
      "[[ 60  93]\n",
      " [ 84 116]]\n",
      "Classification Report:\n",
      "              precision    recall  f1-score   support\n",
      "\n",
      "          -1       0.42      0.39      0.40       153\n",
      "           1       0.56      0.58      0.57       200\n",
      "\n",
      "    accuracy                           0.50       353\n",
      "   macro avg       0.49      0.49      0.49       353\n",
      "weighted avg       0.50      0.50      0.50       353\n",
      "\n",
      "Accuracy: 49.858356940509914\n"
     ]
    }
   ],
   "source": [
    "#fit the model on train dataset\n",
    "model.fit(X_train, y_train)\n",
    "\n",
    "y_pred =  model.predict(X_test)\n",
    "\n",
    "#printing confusion matrix and model Accuracy\n",
    "result = confusion_matrix(y_test, y_pred)\n",
    "print(\"Confusion Matrix:\")\n",
    "print(result)\n",
    "result1 = classification_report(y_test, y_pred)\n",
    "print(\"Classification Report:\",)\n",
    "print (result1)\n",
    "clf_result = accuracy_score(y_test,y_pred)\n",
    "print(\"Accuracy:\",clf_result*100)"
   ]
  },
  {
   "cell_type": "code",
   "execution_count": 723,
   "id": "d6b23f5a",
   "metadata": {},
   "outputs": [
    {
     "name": "stdout",
     "output_type": "stream",
     "text": [
      "AUC: 0.46\n"
     ]
    },
    {
     "data": {
      "image/png": "[encoded data removed]",
      "text/plain": [
       "<Figure size 432x288 with 1 Axes>"
      ]
     },
     "metadata": {
      "needs_background": "light"
     },
     "output_type": "display_data"
    }
   ],
   "source": [
    "def plot_roc_curve(fpr, tpr):\n",
    "    plt.plot(fpr, tpr, color='orange', label='ROC')\n",
    "    plt.plot([0, 1], [0, 1], color='darkblue', linestyle='--')\n",
    "    plt.xlabel('False Positive Rate')\n",
    "    plt.ylabel('True Positive Rate')\n",
    "    plt.title('Receiver Operating Characteristic (ROC) Curve')\n",
    "    plt.legend()\n",
    "    plt.show()\n",
    "\n",
    "\n",
    "model = GradientBoostingClassifier()\n",
    "model.fit(X_train, y_train)\n",
    "\n",
    "probs = model.predict_proba(X_test)\n",
    "\n",
    "probs = probs[:, 1]\n",
    "\n",
    "auc = roc_auc_score(y_test, probs)\n",
    "print('AUC: %.2f' % auc)\n",
    "\n",
    "fpr, tpr, thresholds = roc_curve(y_test, probs)\n",
    "plot_roc_curve(fpr, tpr)"
   ]
  },
  {
   "cell_type": "markdown",
   "id": "0c57e745",
   "metadata": {},
   "source": [
    "# 4. Support Vector Machine (SVM)"
   ]
  },
  {
   "cell_type": "code",
   "execution_count": 724,
   "id": "cdd0ef70",
   "metadata": {},
   "outputs": [],
   "source": [
    "from sklearn.svm import SVC"
   ]
  },
  {
   "cell_type": "code",
   "execution_count": 725,
   "id": "b8dbc3c9",
   "metadata": {},
   "outputs": [],
   "source": [
    "from sklearn.svm import SVC\n",
    "svm = SVC (kernel=\"linear\", C=0.025, random_state=101)\n",
    "svm.fit(X_train, y_train)\n",
    "y_pred=svm.predict(X_test)"
   ]
  },
  {
   "cell_type": "code",
   "execution_count": 726,
   "id": "d850ce70",
   "metadata": {},
   "outputs": [
    {
     "name": "stdout",
     "output_type": "stream",
     "text": [
      "Confusion Matrix:\n",
      "[[  0 153]\n",
      " [  0 200]]\n",
      "Classification Report:\n",
      "              precision    recall  f1-score   support\n",
      "\n",
      "          -1       0.00      0.00      0.00       153\n",
      "           1       0.57      1.00      0.72       200\n",
      "\n",
      "    accuracy                           0.57       353\n",
      "   macro avg       0.28      0.50      0.36       353\n",
      "weighted avg       0.32      0.57      0.41       353\n",
      "\n",
      "Accuracy: 56.657223796033996\n"
     ]
    },
    {
     "name": "stderr",
     "output_type": "stream",
     "text": [
      "C:\\Users\\soham\\anaconda3\\lib\\site-packages\\sklearn\\metrics\\_classification.py:1318: UndefinedMetricWarning: Precision and F-score are ill-defined and being set to 0.0 in labels with no predicted samples. Use `zero_division` parameter to control this behavior.\n",
      "  _warn_prf(average, modifier, msg_start, len(result))\n",
      "C:\\Users\\soham\\anaconda3\\lib\\site-packages\\sklearn\\metrics\\_classification.py:1318: UndefinedMetricWarning: Precision and F-score are ill-defined and being set to 0.0 in labels with no predicted samples. Use `zero_division` parameter to control this behavior.\n",
      "  _warn_prf(average, modifier, msg_start, len(result))\n",
      "C:\\Users\\soham\\anaconda3\\lib\\site-packages\\sklearn\\metrics\\_classification.py:1318: UndefinedMetricWarning: Precision and F-score are ill-defined and being set to 0.0 in labels with no predicted samples. Use `zero_division` parameter to control this behavior.\n",
      "  _warn_prf(average, modifier, msg_start, len(result))\n"
     ]
    }
   ],
   "source": [
    "#printing confusion matrix and model Accuracy\n",
    "result = confusion_matrix(y_test, y_pred)\n",
    "print(\"Confusion Matrix:\")\n",
    "print(result)\n",
    "result1 = classification_report(y_test, y_pred)\n",
    "print(\"Classification Report:\",)\n",
    "print (result1)\n",
    "svm_result = accuracy_score(y_test,y_pred)\n",
    "print(\"Accuracy:\",svm_result*100)"
   ]
  },
  {
   "cell_type": "code",
   "execution_count": 727,
   "id": "f02e4685",
   "metadata": {},
   "outputs": [
    {
     "name": "stdout",
     "output_type": "stream",
     "text": [
      "AUC: 0.50\n"
     ]
    },
    {
     "data": {
      "image/png": "[encoded data removed]",
      "text/plain": [
       "<Figure size 432x288 with 1 Axes>"
      ]
     },
     "metadata": {
      "needs_background": "light"
     },
     "output_type": "display_data"
    }
   ],
   "source": [
    "def plot_roc_curve(fpr, tpr):\n",
    "    plt.plot(fpr, tpr, color='orange', label='ROC')\n",
    "    plt.plot([0, 1], [0, 1], color='darkblue', linestyle='--')\n",
    "    plt.xlabel('False Positive Rate')\n",
    "    plt.ylabel('True Positive Rate')\n",
    "    plt.title('Receiver Operating Characteristic (ROC) Curve')\n",
    "    plt.legend()\n",
    "    plt.show()\n",
    "\n",
    "model = SVC(probability=True)\n",
    "model.fit(X_train, y_train)\n",
    "\n",
    "probs = model.predict_proba(X_test)\n",
    "\n",
    "probs = probs[:, 1]\n",
    "\n",
    "    \n",
    "    \n",
    "auc = roc_auc_score(y_test, probs)\n",
    "print('AUC: %.2f' % auc)\n",
    "\n",
    "fpr, tpr, thresholds = roc_curve(y_test, probs)\n",
    "plot_roc_curve(fpr, tpr)"
   ]
  },
  {
   "cell_type": "markdown",
   "id": "51c6e533",
   "metadata": {},
   "source": [
    "# 5. XGBoost Algorithm (XGB)"
   ]
  },
  {
   "cell_type": "code",
   "execution_count": 728,
   "id": "2294f41c",
   "metadata": {},
   "outputs": [
    {
     "name": "stdout",
     "output_type": "stream",
     "text": [
      "[20:29:28] WARNING: C:/Users/Administrator/workspace/xgboost-win64_release_1.5.0/src/learner.cc:1115: Starting in XGBoost 1.3.0, the default evaluation metric used with the objective 'binary:logistic' was changed from 'error' to 'logloss'. Explicitly set eval_metric if you'd like to restore the old behavior.\n"
     ]
    },
    {
     "name": "stderr",
     "output_type": "stream",
     "text": [
      "C:\\Users\\soham\\anaconda3\\lib\\site-packages\\xgboost\\sklearn.py:1224: UserWarning: The use of label encoder in XGBClassifier is deprecated and will be removed in a future release. To remove this warning, do the following: 1) Pass option use_label_encoder=False when constructing XGBClassifier object; and 2) Encode your labels (y) as integers starting with 0, i.e. 0, 1, 2, ..., [num_class - 1].\n",
      "  warnings.warn(label_encoder_deprecation_msg, UserWarning)\n"
     ]
    }
   ],
   "source": [
    "model = XGBClassifier()\n",
    "\n",
    "model.fit(X_train, y_train)\n",
    "\n",
    "y_pred =  model.predict(X_test)"
   ]
  },
  {
   "cell_type": "code",
   "execution_count": 729,
   "id": "233b1d65",
   "metadata": {},
   "outputs": [
    {
     "name": "stdout",
     "output_type": "stream",
     "text": [
      "Confusion Matrix:\n",
      "[[ 62  91]\n",
      " [ 85 115]]\n",
      "Classification Report:\n",
      "              precision    recall  f1-score   support\n",
      "\n",
      "          -1       0.42      0.41      0.41       153\n",
      "           1       0.56      0.57      0.57       200\n",
      "\n",
      "    accuracy                           0.50       353\n",
      "   macro avg       0.49      0.49      0.49       353\n",
      "weighted avg       0.50      0.50      0.50       353\n",
      "\n",
      "Accuracy: 50.14164305949008\n"
     ]
    }
   ],
   "source": [
    "#printing confusion matrix and model Accuracy\n",
    "result = confusion_matrix(y_test, y_pred)\n",
    "print(\"Confusion Matrix:\")\n",
    "print(result)\n",
    "result1 = classification_report(y_test, y_pred)\n",
    "print(\"Classification Report:\",)\n",
    "print (result1)\n",
    "xgb_result = accuracy_score(y_test,y_pred)\n",
    "print(\"Accuracy:\",xgb_result*100)"
   ]
  },
  {
   "cell_type": "code",
   "execution_count": 730,
   "id": "56c16e65",
   "metadata": {},
   "outputs": [
    {
     "name": "stdout",
     "output_type": "stream",
     "text": [
      "[20:29:28] WARNING: C:/Users/Administrator/workspace/xgboost-win64_release_1.5.0/src/learner.cc:1115: Starting in XGBoost 1.3.0, the default evaluation metric used with the objective 'binary:logistic' was changed from 'error' to 'logloss'. Explicitly set eval_metric if you'd like to restore the old behavior.\n",
      "AUC: 0.48\n"
     ]
    },
    {
     "name": "stderr",
     "output_type": "stream",
     "text": [
      "C:\\Users\\soham\\anaconda3\\lib\\site-packages\\xgboost\\sklearn.py:1224: UserWarning: The use of label encoder in XGBClassifier is deprecated and will be removed in a future release. To remove this warning, do the following: 1) Pass option use_label_encoder=False when constructing XGBClassifier object; and 2) Encode your labels (y) as integers starting with 0, i.e. 0, 1, 2, ..., [num_class - 1].\n",
      "  warnings.warn(label_encoder_deprecation_msg, UserWarning)\n"
     ]
    },
    {
     "data": {
      "image/png": "[encoded data removed]",
      "text/plain": [
       "<Figure size 432x288 with 1 Axes>"
      ]
     },
     "metadata": {
      "needs_background": "light"
     },
     "output_type": "display_data"
    }
   ],
   "source": [
    "def plot_roc_curve(fpr, tpr):\n",
    "    plt.plot(fpr, tpr, color='orange', label='ROC')\n",
    "    plt.plot([0, 1], [0, 1], color='darkblue', linestyle='--')\n",
    "    plt.xlabel('False Positive Rate')\n",
    "    plt.ylabel('True Positive Rate')\n",
    "    plt.title('Receiver Operating Characteristic (ROC) Curve')\n",
    "    plt.legend()\n",
    "    plt.show()\n",
    "\n",
    "\n",
    "model = XGBClassifier()\n",
    "model.fit(X_train, y_train)\n",
    "\n",
    "probs = model.predict_proba(X_test)\n",
    "\n",
    "probs = probs[:, 1]\n",
    "\n",
    "auc = roc_auc_score(y_test, probs)\n",
    "print('AUC: %.2f' % auc)\n",
    "\n",
    "fpr, tpr, thresholds = roc_curve(y_test, probs)\n",
    "plot_roc_curve(fpr, tpr)"
   ]
  },
  {
   "cell_type": "markdown",
   "id": "5b6db969",
   "metadata": {},
   "source": [
    "# Comparing ML Classifier Models"
   ]
  },
  {
   "cell_type": "code",
   "execution_count": 731,
   "id": "f364bf2e",
   "metadata": {
    "scrolled": false
   },
   "outputs": [
    {
     "data": {
      "text/html": [
       "<div>\n",
       "<style scoped>\n",
       "    .dataframe tbody tr th:only-of-type {\n",
       "        vertical-align: middle;\n",
       "    }\n",
       "\n",
       "    .dataframe tbody tr th {\n",
       "        vertical-align: top;\n",
       "    }\n",
       "\n",
       "    .dataframe thead th {\n",
       "        text-align: right;\n",
       "    }\n",
       "</style>\n",
       "<table border=\"1\" class=\"dataframe\">\n",
       "  <thead>\n",
       "    <tr style=\"text-align: right;\">\n",
       "      <th></th>\n",
       "      <th>Algorithm</th>\n",
       "      <th>Accuracy</th>\n",
       "    </tr>\n",
       "  </thead>\n",
       "  <tbody>\n",
       "    <tr>\n",
       "      <th>3</th>\n",
       "      <td>Support Vector Machine</td>\n",
       "      <td>56.657224</td>\n",
       "    </tr>\n",
       "    <tr>\n",
       "      <th>0</th>\n",
       "      <td>K-Nearest Neighbors (KNN)</td>\n",
       "      <td>54.107649</td>\n",
       "    </tr>\n",
       "    <tr>\n",
       "      <th>1</th>\n",
       "      <td>Random Forest</td>\n",
       "      <td>54.107649</td>\n",
       "    </tr>\n",
       "    <tr>\n",
       "      <th>4</th>\n",
       "      <td>XGBoost Algorithm (XGB)</td>\n",
       "      <td>50.141643</td>\n",
       "    </tr>\n",
       "    <tr>\n",
       "      <th>2</th>\n",
       "      <td>Gradient Boosting</td>\n",
       "      <td>49.858357</td>\n",
       "    </tr>\n",
       "  </tbody>\n",
       "</table>\n",
       "</div>"
      ],
      "text/plain": [
       "                   Algorithm   Accuracy\n",
       "3     Support Vector Machine  56.657224\n",
       "0  K-Nearest Neighbors (KNN)  54.107649\n",
       "1              Random Forest  54.107649\n",
       "4    XGBoost Algorithm (XGB)  50.141643\n",
       "2          Gradient Boosting  49.858357"
      ]
     },
     "execution_count": 731,
     "metadata": {},
     "output_type": "execute_result"
    }
   ],
   "source": [
    "results_123 = pd.DataFrame([\n",
    "\n",
    "    {'Algorithm' : 'K-Nearest Neighbors (KNN)', 'Accuracy' : knn_result*100},\n",
    "    \n",
    "    {'Algorithm' : 'Random Forest', 'Accuracy' : rf_result*100},\n",
    "    \n",
    "    {'Algorithm' : 'Gradient Boosting', 'Accuracy' : clf_result*100},\n",
    "    \n",
    "    {'Algorithm' : 'Support Vector Machine', 'Accuracy' : svm_result*100},\n",
    "    \n",
    "    {'Algorithm' : 'XGBoost Algorithm (XGB)', 'Accuracy' : xgb_result*100}\n",
    "    \n",
    "   \n",
    "\n",
    "])\n",
    "\n",
    "results_123.sort_values(by=['Accuracy'], ascending=False)"
   ]
  },
  {
   "cell_type": "markdown",
   "id": "492c96f3",
   "metadata": {},
   "source": [
    "# Spliting Data Strategy 2"
   ]
  },
  {
   "cell_type": "code",
   "execution_count": 732,
   "id": "b42c57f2",
   "metadata": {},
   "outputs": [],
   "source": [
    "training_set = data2.iloc[:,1:2].values"
   ]
  },
  {
   "cell_type": "code",
   "execution_count": 733,
   "id": "514dfa00",
   "metadata": {},
   "outputs": [
    {
     "data": {
      "text/plain": [
       "array([[0.0038217 ],\n",
       "       [0.00459866],\n",
       "       [0.00371671],\n",
       "       ...,\n",
       "       [0.97080797],\n",
       "       [0.96080644],\n",
       "       [0.959788  ]])"
      ]
     },
     "execution_count": 733,
     "metadata": {},
     "output_type": "execute_result"
    }
   ],
   "source": [
    "from sklearn.preprocessing import MinMaxScaler\n",
    "\n",
    "scaler = MinMaxScaler(feature_range = (0,1))\n",
    "scaled_training_set = scaler.fit_transform(training_set)\n",
    "\n",
    "scaled_training_set"
   ]
  },
  {
   "cell_type": "code",
   "execution_count": 734,
   "id": "b0e5d69a",
   "metadata": {},
   "outputs": [
    {
     "data": {
      "text/html": [
       "<div>\n",
       "<style scoped>\n",
       "    .dataframe tbody tr th:only-of-type {\n",
       "        vertical-align: middle;\n",
       "    }\n",
       "\n",
       "    .dataframe tbody tr th {\n",
       "        vertical-align: top;\n",
       "    }\n",
       "\n",
       "    .dataframe thead th {\n",
       "        text-align: right;\n",
       "    }\n",
       "</style>\n",
       "<table border=\"1\" class=\"dataframe\">\n",
       "  <thead>\n",
       "    <tr style=\"text-align: right;\">\n",
       "      <th></th>\n",
       "      <th>Open</th>\n",
       "      <th>High</th>\n",
       "      <th>Low</th>\n",
       "      <th>Close</th>\n",
       "      <th>Adj Close</th>\n",
       "      <th>Volume</th>\n",
       "      <th>50_sma</th>\n",
       "      <th>200_sma</th>\n",
       "      <th>signal</th>\n",
       "    </tr>\n",
       "    <tr>\n",
       "      <th>Date</th>\n",
       "      <th></th>\n",
       "      <th></th>\n",
       "      <th></th>\n",
       "      <th></th>\n",
       "      <th></th>\n",
       "      <th></th>\n",
       "      <th></th>\n",
       "      <th></th>\n",
       "      <th></th>\n",
       "    </tr>\n",
       "  </thead>\n",
       "  <tbody>\n",
       "    <tr>\n",
       "      <th>2015-10-16</th>\n",
       "      <td>664.109985</td>\n",
       "      <td>664.969971</td>\n",
       "      <td>657.200012</td>\n",
       "      <td>662.200012</td>\n",
       "      <td>662.200012</td>\n",
       "      <td>1611100</td>\n",
       "      <td>630.552394</td>\n",
       "      <td>567.525658</td>\n",
       "      <td>1</td>\n",
       "    </tr>\n",
       "    <tr>\n",
       "      <th>2015-10-19</th>\n",
       "      <td>661.179993</td>\n",
       "      <td>666.820007</td>\n",
       "      <td>659.580017</td>\n",
       "      <td>666.099976</td>\n",
       "      <td>666.099976</td>\n",
       "      <td>1477300</td>\n",
       "      <td>631.168394</td>\n",
       "      <td>568.239293</td>\n",
       "      <td>1</td>\n",
       "    </tr>\n",
       "    <tr>\n",
       "      <th>2015-10-20</th>\n",
       "      <td>664.039978</td>\n",
       "      <td>664.719971</td>\n",
       "      <td>644.195007</td>\n",
       "      <td>650.280029</td>\n",
       "      <td>650.280029</td>\n",
       "      <td>2498200</td>\n",
       "      <td>631.499395</td>\n",
       "      <td>568.928378</td>\n",
       "      <td>1</td>\n",
       "    </tr>\n",
       "    <tr>\n",
       "      <th>2015-10-21</th>\n",
       "      <td>654.150024</td>\n",
       "      <td>655.869995</td>\n",
       "      <td>641.729980</td>\n",
       "      <td>642.609985</td>\n",
       "      <td>642.609985</td>\n",
       "      <td>1791100</td>\n",
       "      <td>631.135994</td>\n",
       "      <td>569.638499</td>\n",
       "      <td>1</td>\n",
       "    </tr>\n",
       "    <tr>\n",
       "      <th>2015-10-22</th>\n",
       "      <td>646.700012</td>\n",
       "      <td>657.799988</td>\n",
       "      <td>644.010010</td>\n",
       "      <td>651.789978</td>\n",
       "      <td>651.789978</td>\n",
       "      <td>4071000</td>\n",
       "      <td>630.980593</td>\n",
       "      <td>570.398809</td>\n",
       "      <td>1</td>\n",
       "    </tr>\n",
       "    <tr>\n",
       "      <th>...</th>\n",
       "      <td>...</td>\n",
       "      <td>...</td>\n",
       "      <td>...</td>\n",
       "      <td>...</td>\n",
       "      <td>...</td>\n",
       "      <td>...</td>\n",
       "      <td>...</td>\n",
       "      <td>...</td>\n",
       "      <td>...</td>\n",
       "    </tr>\n",
       "    <tr>\n",
       "      <th>2021-12-23</th>\n",
       "      <td>2941.790039</td>\n",
       "      <td>2971.451904</td>\n",
       "      <td>2939.017090</td>\n",
       "      <td>2942.850098</td>\n",
       "      <td>2942.850098</td>\n",
       "      <td>690900</td>\n",
       "      <td>2912.677207</td>\n",
       "      <td>2628.971300</td>\n",
       "      <td>1</td>\n",
       "    </tr>\n",
       "    <tr>\n",
       "      <th>2021-12-27</th>\n",
       "      <td>2949.270020</td>\n",
       "      <td>2968.530029</td>\n",
       "      <td>2945.000000</td>\n",
       "      <td>2961.280029</td>\n",
       "      <td>2961.280029</td>\n",
       "      <td>662800</td>\n",
       "      <td>2915.338008</td>\n",
       "      <td>2633.468101</td>\n",
       "      <td>1</td>\n",
       "    </tr>\n",
       "    <tr>\n",
       "      <th>2021-12-28</th>\n",
       "      <td>2967.489990</td>\n",
       "      <td>2967.489990</td>\n",
       "      <td>2918.709961</td>\n",
       "      <td>2928.959961</td>\n",
       "      <td>2928.959961</td>\n",
       "      <td>931200</td>\n",
       "      <td>2917.247207</td>\n",
       "      <td>2637.780450</td>\n",
       "      <td>1</td>\n",
       "    </tr>\n",
       "    <tr>\n",
       "      <th>2021-12-29</th>\n",
       "      <td>2928.590088</td>\n",
       "      <td>2943.675049</td>\n",
       "      <td>2910.090088</td>\n",
       "      <td>2930.090088</td>\n",
       "      <td>2930.090088</td>\n",
       "      <td>851100</td>\n",
       "      <td>2918.664810</td>\n",
       "      <td>2641.968301</td>\n",
       "      <td>1</td>\n",
       "    </tr>\n",
       "    <tr>\n",
       "      <th>2021-12-30</th>\n",
       "      <td>2929.000000</td>\n",
       "      <td>2941.250000</td>\n",
       "      <td>2915.169922</td>\n",
       "      <td>2920.050049</td>\n",
       "      <td>2920.050049</td>\n",
       "      <td>648900</td>\n",
       "      <td>2919.537012</td>\n",
       "      <td>2646.113151</td>\n",
       "      <td>1</td>\n",
       "    </tr>\n",
       "  </tbody>\n",
       "</table>\n",
       "<p>1563 rows × 9 columns</p>\n",
       "</div>"
      ],
      "text/plain": [
       "                   Open         High          Low        Close    Adj Close  \\\n",
       "Date                                                                          \n",
       "2015-10-16   664.109985   664.969971   657.200012   662.200012   662.200012   \n",
       "2015-10-19   661.179993   666.820007   659.580017   666.099976   666.099976   \n",
       "2015-10-20   664.039978   664.719971   644.195007   650.280029   650.280029   \n",
       "2015-10-21   654.150024   655.869995   641.729980   642.609985   642.609985   \n",
       "2015-10-22   646.700012   657.799988   644.010010   651.789978   651.789978   \n",
       "...                 ...          ...          ...          ...          ...   \n",
       "2021-12-23  2941.790039  2971.451904  2939.017090  2942.850098  2942.850098   \n",
       "2021-12-27  2949.270020  2968.530029  2945.000000  2961.280029  2961.280029   \n",
       "2021-12-28  2967.489990  2967.489990  2918.709961  2928.959961  2928.959961   \n",
       "2021-12-29  2928.590088  2943.675049  2910.090088  2930.090088  2930.090088   \n",
       "2021-12-30  2929.000000  2941.250000  2915.169922  2920.050049  2920.050049   \n",
       "\n",
       "             Volume       50_sma      200_sma  signal  \n",
       "Date                                                   \n",
       "2015-10-16  1611100   630.552394   567.525658       1  \n",
       "2015-10-19  1477300   631.168394   568.239293       1  \n",
       "2015-10-20  2498200   631.499395   568.928378       1  \n",
       "2015-10-21  1791100   631.135994   569.638499       1  \n",
       "2015-10-22  4071000   630.980593   570.398809       1  \n",
       "...             ...          ...          ...     ...  \n",
       "2021-12-23   690900  2912.677207  2628.971300       1  \n",
       "2021-12-27   662800  2915.338008  2633.468101       1  \n",
       "2021-12-28   931200  2917.247207  2637.780450       1  \n",
       "2021-12-29   851100  2918.664810  2641.968301       1  \n",
       "2021-12-30   648900  2919.537012  2646.113151       1  \n",
       "\n",
       "[1563 rows x 9 columns]"
      ]
     },
     "execution_count": 734,
     "metadata": {},
     "output_type": "execute_result"
    }
   ],
   "source": [
    "data2"
   ]
  },
  {
   "cell_type": "code",
   "execution_count": 735,
   "id": "039badde",
   "metadata": {},
   "outputs": [],
   "source": [
    "x= data2.iloc[:, :-3]\n",
    "y= data2.iloc[:, -1]\n",
    "\n",
    "x_train, x_test, y_train, y_test= train_test_split(x, y,test_size= 0.2,shuffle= True,random_state= 0)\n",
    "x_train= np.asarray(x_train)\n",
    "y_train= np.asarray(y_train)\n",
    "\n",
    "x_test= np.asarray(x_test)\n",
    "y_test= np.asarray(y_test)"
   ]
  },
  {
   "cell_type": "code",
   "execution_count": 736,
   "id": "1e7cfec9",
   "metadata": {
    "scrolled": true
   },
   "outputs": [
    {
     "name": "stdout",
     "output_type": "stream",
     "text": [
      "No. of training examples:1250\n",
      "No. of testing examples:313\n"
     ]
    }
   ],
   "source": [
    "x_train, x_test, y_train, y_test = train_test_split(x,y,test_size= 0.2)\n",
    "print(f\"No. of training examples:{x_train.shape[0]}\")\n",
    "print(f\"No. of testing examples:{x_test.shape[0]}\")"
   ]
  },
  {
   "cell_type": "markdown",
   "id": "b66ae1e5",
   "metadata": {},
   "source": [
    "# 1. K-Nearest Neighbors (KNN)"
   ]
  },
  {
   "cell_type": "code",
   "execution_count": 737,
   "id": "4df60f4e",
   "metadata": {},
   "outputs": [],
   "source": [
    "#Fit the model in training set and using scalar transform\n",
    "scaler = StandardScaler()\n",
    "scaler.fit(x_train)\n",
    "x_train = scaler.transform(x_train)\n",
    "x_test = scaler.transform(x_test)"
   ]
  },
  {
   "cell_type": "code",
   "execution_count": 738,
   "id": "a2d4a0ac",
   "metadata": {},
   "outputs": [
    {
     "data": {
      "text/plain": [
       "KNeighborsClassifier()"
      ]
     },
     "execution_count": 738,
     "metadata": {},
     "output_type": "execute_result"
    }
   ],
   "source": [
    "#using classifiers/model knn = 5\n",
    "classifier = KNeighborsClassifier(n_neighbors = 5)\n",
    "classifier.fit(x_train, y_train)"
   ]
  },
  {
   "cell_type": "code",
   "execution_count": 739,
   "id": "8f4ab043",
   "metadata": {},
   "outputs": [],
   "source": [
    "#Making the prediction system using classifier and prediction\n",
    "y_pred = classifier.predict(x_test)"
   ]
  },
  {
   "cell_type": "code",
   "execution_count": 740,
   "id": "e783960d",
   "metadata": {},
   "outputs": [
    {
     "name": "stdout",
     "output_type": "stream",
     "text": [
      "Confusion Matrix:\n",
      "[[  2  30]\n",
      " [ 11 270]]\n",
      "Classification Report:\n",
      "              precision    recall  f1-score   support\n",
      "\n",
      "           0       0.15      0.06      0.09        32\n",
      "           1       0.90      0.96      0.93       281\n",
      "\n",
      "    accuracy                           0.87       313\n",
      "   macro avg       0.53      0.51      0.51       313\n",
      "weighted avg       0.82      0.87      0.84       313\n",
      "\n",
      "Accuracy: 86.90095846645367\n"
     ]
    }
   ],
   "source": [
    "#printing confusion matrix and model Accuracy\n",
    "result = confusion_matrix(y_test, y_pred)\n",
    "print(\"Confusion Matrix:\")\n",
    "print(result)\n",
    "result1 = classification_report(y_test, y_pred)\n",
    "print(\"Classification Report:\",)\n",
    "print (result1)\n",
    "knn_result = accuracy_score(y_test,y_pred)\n",
    "print(\"Accuracy:\",knn_result*100)"
   ]
  },
  {
   "cell_type": "code",
   "execution_count": 741,
   "id": "575e371b",
   "metadata": {},
   "outputs": [
    {
     "name": "stdout",
     "output_type": "stream",
     "text": [
      "AUC: 0.70\n"
     ]
    },
    {
     "data": {
      "image/png": "[encoded data removed]",
      "text/plain": [
       "<Figure size 432x288 with 1 Axes>"
      ]
     },
     "metadata": {
      "needs_background": "light"
     },
     "output_type": "display_data"
    }
   ],
   "source": [
    "def plot_roc_curve(fpr, tpr):\n",
    "    plt.plot(fpr, tpr, color='orange', label='ROC')\n",
    "    plt.plot([0, 1], [0, 1], color='darkblue', linestyle='--')\n",
    "    plt.xlabel('False Positive Rate')\n",
    "    plt.ylabel('True Positive Rate')\n",
    "    plt.title('Receiver Operating Characteristic (ROC) Curve')\n",
    "    plt.legend()\n",
    "    plt.show()\n",
    "\n",
    "\n",
    "model = KNeighborsClassifier()\n",
    "model.fit(x_train, y_train)\n",
    "\n",
    "probs = model.predict_proba(x_test)\n",
    "\n",
    "probs = probs[:, 1]\n",
    "\n",
    "auc = roc_auc_score(y_test, probs)\n",
    "print('AUC: %.2f' % auc)\n",
    "\n",
    "fpr, tpr, thresholds = roc_curve(y_test, probs)\n",
    "plot_roc_curve(fpr, tpr)"
   ]
  },
  {
   "cell_type": "markdown",
   "id": "a9629017",
   "metadata": {},
   "source": [
    "# 2. Random Forest (RF)"
   ]
  },
  {
   "cell_type": "code",
   "execution_count": 742,
   "id": "8045d007",
   "metadata": {},
   "outputs": [],
   "source": [
    "# Import the model we are using\n",
    "from sklearn.ensemble import RandomForestRegressor"
   ]
  },
  {
   "cell_type": "code",
   "execution_count": 743,
   "id": "a4ce7961",
   "metadata": {},
   "outputs": [],
   "source": [
    "# Instantiate model with 1000 decision trees\n",
    "rf = RandomForestRegressor(n_estimators = 10, random_state = 42)"
   ]
  },
  {
   "cell_type": "code",
   "execution_count": 744,
   "id": "0b4893ef",
   "metadata": {},
   "outputs": [
    {
     "name": "stdout",
     "output_type": "stream",
     "text": [
      "Confusion Matrix:\n",
      "[[  2  30]\n",
      " [ 11 270]]\n",
      "Classification Report:\n",
      "              precision    recall  f1-score   support\n",
      "\n",
      "           0       0.15      0.06      0.09        32\n",
      "           1       0.90      0.96      0.93       281\n",
      "\n",
      "    accuracy                           0.87       313\n",
      "   macro avg       0.53      0.51      0.51       313\n",
      "weighted avg       0.82      0.87      0.84       313\n",
      "\n",
      "Accuracy: 86.90095846645367\n"
     ]
    }
   ],
   "source": [
    "#fit the model on train dataset\n",
    "model.fit(x_train, y_train)\n",
    "\n",
    "#predict infection rate on 30% test data\n",
    "y_pred =  model.predict(x_test)\n",
    "\n",
    "#printing confusion matrix and model Accuracy\n",
    "result = confusion_matrix(y_test, y_pred)\n",
    "print(\"Confusion Matrix:\")\n",
    "print(result)\n",
    "result1 = classification_report(y_test, y_pred)\n",
    "print(\"Classification Report:\",)\n",
    "print (result1)\n",
    "rf_result = accuracy_score(y_test,y_pred)\n",
    "print(\"Accuracy:\",rf_result*100)"
   ]
  },
  {
   "cell_type": "code",
   "execution_count": 745,
   "id": "ca793fab",
   "metadata": {},
   "outputs": [
    {
     "name": "stdout",
     "output_type": "stream",
     "text": [
      "AUC: 0.77\n"
     ]
    },
    {
     "data": {
      "image/png": "[encoded data removed]",
      "text/plain": [
       "<Figure size 432x288 with 1 Axes>"
      ]
     },
     "metadata": {
      "needs_background": "light"
     },
     "output_type": "display_data"
    }
   ],
   "source": [
    "def plot_roc_curve(fpr, tpr):\n",
    "    plt.plot(fpr, tpr, color='orange', label='ROC')\n",
    "    plt.plot([0, 1], [0, 1], color='darkblue', linestyle='--')\n",
    "    plt.xlabel('False Positive Rate')\n",
    "    plt.ylabel('True Positive Rate')\n",
    "    plt.title('Receiver Operating Characteristic (ROC) Curve')\n",
    "    plt.legend()\n",
    "    plt.show()\n",
    "\n",
    "\n",
    "model = RandomForestClassifier()\n",
    "model.fit(x_train, y_train)\n",
    "\n",
    "probs = model.predict_proba(x_test)\n",
    "\n",
    "probs = probs[:, 1]\n",
    "\n",
    "auc = roc_auc_score(y_test, probs)\n",
    "print('AUC: %.2f' % auc)\n",
    "\n",
    "fpr, tpr, thresholds = roc_curve(y_test, probs)\n",
    "plot_roc_curve(fpr, tpr)"
   ]
  },
  {
   "cell_type": "markdown",
   "id": "697f53e0",
   "metadata": {},
   "source": [
    "# 3. Gradient Boosting"
   ]
  },
  {
   "cell_type": "code",
   "execution_count": 746,
   "id": "3fb034ea",
   "metadata": {},
   "outputs": [],
   "source": [
    "from sklearn.ensemble import GradientBoostingClassifier"
   ]
  },
  {
   "cell_type": "code",
   "execution_count": 747,
   "id": "2425d0ff",
   "metadata": {},
   "outputs": [],
   "source": [
    "clf = GradientBoostingClassifier(n_estimators=100, learning_rate=1.0,max_depth=1, random_state=0).fit(x_train, y_train)"
   ]
  },
  {
   "cell_type": "code",
   "execution_count": 748,
   "id": "0703319e",
   "metadata": {},
   "outputs": [
    {
     "name": "stdout",
     "output_type": "stream",
     "text": [
      "Confusion Matrix:\n",
      "[[  0  32]\n",
      " [ 11 270]]\n",
      "Classification Report:\n",
      "              precision    recall  f1-score   support\n",
      "\n",
      "           0       0.00      0.00      0.00        32\n",
      "           1       0.89      0.96      0.93       281\n",
      "\n",
      "    accuracy                           0.86       313\n",
      "   macro avg       0.45      0.48      0.46       313\n",
      "weighted avg       0.80      0.86      0.83       313\n",
      "\n",
      "Accuracy: 86.26198083067092\n"
     ]
    }
   ],
   "source": [
    "#fit the model on train dataset\n",
    "model.fit(x_train, y_train)\n",
    "\n",
    "y_pred =  model.predict(x_test)\n",
    "\n",
    "#printing confusion matrix and model Accuracy\n",
    "result = confusion_matrix(y_test, y_pred)\n",
    "print(\"Confusion Matrix:\")\n",
    "print(result)\n",
    "result1 = classification_report(y_test, y_pred)\n",
    "print(\"Classification Report:\",)\n",
    "print (result1)\n",
    "clf_result = accuracy_score(y_test,y_pred)\n",
    "print(\"Accuracy:\",clf_result*100)"
   ]
  },
  {
   "cell_type": "code",
   "execution_count": 749,
   "id": "5f476f83",
   "metadata": {},
   "outputs": [
    {
     "name": "stdout",
     "output_type": "stream",
     "text": [
      "AUC: 0.76\n"
     ]
    },
    {
     "data": {
      "image/png": "[encoded data removed]",
      "text/plain": [
       "<Figure size 432x288 with 1 Axes>"
      ]
     },
     "metadata": {
      "needs_background": "light"
     },
     "output_type": "display_data"
    }
   ],
   "source": [
    "def plot_roc_curve(fpr, tpr):\n",
    "    plt.plot(fpr, tpr, color='orange', label='ROC')\n",
    "    plt.plot([0, 1], [0, 1], color='darkblue', linestyle='--')\n",
    "    plt.xlabel('False Positive Rate')\n",
    "    plt.ylabel('True Positive Rate')\n",
    "    plt.title('Receiver Operating Characteristic (ROC) Curve')\n",
    "    plt.legend()\n",
    "    plt.show()\n",
    "\n",
    "\n",
    "model = GradientBoostingClassifier()\n",
    "model.fit(x_train, y_train)\n",
    "\n",
    "probs = model.predict_proba(x_test)\n",
    "\n",
    "probs = probs[:, 1]\n",
    "\n",
    "auc = roc_auc_score(y_test, probs)\n",
    "print('AUC: %.2f' % auc)\n",
    "\n",
    "fpr, tpr, thresholds = roc_curve(y_test, probs)\n",
    "plot_roc_curve(fpr, tpr)"
   ]
  },
  {
   "cell_type": "markdown",
   "id": "4c6a7a50",
   "metadata": {},
   "source": [
    "# 4. Support Vector Machine (SVM)"
   ]
  },
  {
   "cell_type": "code",
   "execution_count": 750,
   "id": "fce01f2d",
   "metadata": {},
   "outputs": [],
   "source": [
    "from sklearn.svm import SVC"
   ]
  },
  {
   "cell_type": "code",
   "execution_count": 751,
   "id": "3452e0b5",
   "metadata": {},
   "outputs": [],
   "source": [
    "from sklearn.svm import SVC\n",
    "svm = SVC (kernel=\"linear\", C=0.025, random_state=101)\n",
    "svm.fit(x_train, y_train)\n",
    "y_pred=svm.predict(x_test)"
   ]
  },
  {
   "cell_type": "code",
   "execution_count": 752,
   "id": "6d9a456e",
   "metadata": {},
   "outputs": [
    {
     "name": "stdout",
     "output_type": "stream",
     "text": [
      "Confusion Matrix:\n",
      "[[  0  32]\n",
      " [  0 281]]\n",
      "Classification Report:\n",
      "              precision    recall  f1-score   support\n",
      "\n",
      "           0       0.00      0.00      0.00        32\n",
      "           1       0.90      1.00      0.95       281\n",
      "\n",
      "    accuracy                           0.90       313\n",
      "   macro avg       0.45      0.50      0.47       313\n",
      "weighted avg       0.81      0.90      0.85       313\n",
      "\n",
      "Accuracy: 89.77635782747603\n"
     ]
    },
    {
     "name": "stderr",
     "output_type": "stream",
     "text": [
      "C:\\Users\\soham\\anaconda3\\lib\\site-packages\\sklearn\\metrics\\_classification.py:1318: UndefinedMetricWarning: Precision and F-score are ill-defined and being set to 0.0 in labels with no predicted samples. Use `zero_division` parameter to control this behavior.\n",
      "  _warn_prf(average, modifier, msg_start, len(result))\n",
      "C:\\Users\\soham\\anaconda3\\lib\\site-packages\\sklearn\\metrics\\_classification.py:1318: UndefinedMetricWarning: Precision and F-score are ill-defined and being set to 0.0 in labels with no predicted samples. Use `zero_division` parameter to control this behavior.\n",
      "  _warn_prf(average, modifier, msg_start, len(result))\n",
      "C:\\Users\\soham\\anaconda3\\lib\\site-packages\\sklearn\\metrics\\_classification.py:1318: UndefinedMetricWarning: Precision and F-score are ill-defined and being set to 0.0 in labels with no predicted samples. Use `zero_division` parameter to control this behavior.\n",
      "  _warn_prf(average, modifier, msg_start, len(result))\n"
     ]
    }
   ],
   "source": [
    "#printing confusion matrix and model Accuracy\n",
    "result = confusion_matrix(y_test, y_pred)\n",
    "print(\"Confusion Matrix:\")\n",
    "print(result)\n",
    "result1 = classification_report(y_test, y_pred)\n",
    "print(\"Classification Report:\",)\n",
    "print (result1)\n",
    "svm_result = accuracy_score(y_test,y_pred)\n",
    "print(\"Accuracy:\",svm_result*100)"
   ]
  },
  {
   "cell_type": "code",
   "execution_count": 753,
   "id": "be26e08e",
   "metadata": {},
   "outputs": [
    {
     "name": "stdout",
     "output_type": "stream",
     "text": [
      "AUC: 0.55\n"
     ]
    },
    {
     "data": {
      "image/png": "[encoded data removed]",
      "text/plain": [
       "<Figure size 432x288 with 1 Axes>"
      ]
     },
     "metadata": {
      "needs_background": "light"
     },
     "output_type": "display_data"
    }
   ],
   "source": [
    "def plot_roc_curve(fpr, tpr):\n",
    "    plt.plot(fpr, tpr, color='orange', label='ROC')\n",
    "    plt.plot([0, 1], [0, 1], color='darkblue', linestyle='--')\n",
    "    plt.xlabel('False Positive Rate')\n",
    "    plt.ylabel('True Positive Rate')\n",
    "    plt.title('Receiver Operating Characteristic (ROC) Curve')\n",
    "    plt.legend()\n",
    "    plt.show()\n",
    "\n",
    "model = SVC(probability=True)\n",
    "model.fit(x_train, y_train)\n",
    "\n",
    "probs = model.predict_proba(x_test)\n",
    "\n",
    "probs = probs[:, 1]\n",
    "\n",
    "    \n",
    "    \n",
    "auc = roc_auc_score(y_test, probs)\n",
    "print('AUC: %.2f' % auc)\n",
    "\n",
    "fpr, tpr, thresholds = roc_curve(y_test, probs)\n",
    "plot_roc_curve(fpr, tpr)"
   ]
  },
  {
   "cell_type": "markdown",
   "id": "941b5459",
   "metadata": {},
   "source": [
    "# 5. XGBoost Algorithm (XGB)"
   ]
  },
  {
   "cell_type": "code",
   "execution_count": 754,
   "id": "2bd7b36e",
   "metadata": {},
   "outputs": [
    {
     "name": "stdout",
     "output_type": "stream",
     "text": [
      "[20:29:31] WARNING: C:/Users/Administrator/workspace/xgboost-win64_release_1.5.0/src/learner.cc:1115: Starting in XGBoost 1.3.0, the default evaluation metric used with the objective 'binary:logistic' was changed from 'error' to 'logloss'. Explicitly set eval_metric if you'd like to restore the old behavior.\n"
     ]
    },
    {
     "name": "stderr",
     "output_type": "stream",
     "text": [
      "C:\\Users\\soham\\anaconda3\\lib\\site-packages\\xgboost\\sklearn.py:1224: UserWarning: The use of label encoder in XGBClassifier is deprecated and will be removed in a future release. To remove this warning, do the following: 1) Pass option use_label_encoder=False when constructing XGBClassifier object; and 2) Encode your labels (y) as integers starting with 0, i.e. 0, 1, 2, ..., [num_class - 1].\n",
      "  warnings.warn(label_encoder_deprecation_msg, UserWarning)\n"
     ]
    }
   ],
   "source": [
    "model = XGBClassifier()\n",
    "model.fit(x_train, y_train)\n",
    "y_pred =  model.predict(x_test)"
   ]
  },
  {
   "cell_type": "code",
   "execution_count": 755,
   "id": "1ad5e998",
   "metadata": {},
   "outputs": [
    {
     "name": "stdout",
     "output_type": "stream",
     "text": [
      "Confusion Matrix:\n",
      "[[  4  28]\n",
      " [ 11 270]]\n",
      "Classification Report:\n",
      "              precision    recall  f1-score   support\n",
      "\n",
      "           0       0.27      0.12      0.17        32\n",
      "           1       0.91      0.96      0.93       281\n",
      "\n",
      "    accuracy                           0.88       313\n",
      "   macro avg       0.59      0.54      0.55       313\n",
      "weighted avg       0.84      0.88      0.85       313\n",
      "\n",
      "Accuracy: 87.53993610223642\n"
     ]
    }
   ],
   "source": [
    "\n",
    "#printing confusion matrix and model Accuracy\n",
    "result = confusion_matrix(y_test, y_pred)\n",
    "print(\"Confusion Matrix:\")\n",
    "print(result)\n",
    "result1 = classification_report(y_test, y_pred)\n",
    "print(\"Classification Report:\",)\n",
    "print (result1)\n",
    "xgb_result = accuracy_score(y_test,y_pred)\n",
    "print(\"Accuracy:\",xgb_result*100)"
   ]
  },
  {
   "cell_type": "code",
   "execution_count": 756,
   "id": "6b39d6b8",
   "metadata": {
    "scrolled": true
   },
   "outputs": [
    {
     "name": "stdout",
     "output_type": "stream",
     "text": [
      "[20:29:31] WARNING: C:/Users/Administrator/workspace/xgboost-win64_release_1.5.0/src/learner.cc:1115: Starting in XGBoost 1.3.0, the default evaluation metric used with the objective 'binary:logistic' was changed from 'error' to 'logloss'. Explicitly set eval_metric if you'd like to restore the old behavior.\n"
     ]
    },
    {
     "name": "stderr",
     "output_type": "stream",
     "text": [
      "C:\\Users\\soham\\anaconda3\\lib\\site-packages\\xgboost\\sklearn.py:1224: UserWarning: The use of label encoder in XGBClassifier is deprecated and will be removed in a future release. To remove this warning, do the following: 1) Pass option use_label_encoder=False when constructing XGBClassifier object; and 2) Encode your labels (y) as integers starting with 0, i.e. 0, 1, 2, ..., [num_class - 1].\n",
      "  warnings.warn(label_encoder_deprecation_msg, UserWarning)\n"
     ]
    },
    {
     "name": "stdout",
     "output_type": "stream",
     "text": [
      "AUC: 0.78\n"
     ]
    },
    {
     "data": {
      "image/png": "[encoded data removed]",
      "text/plain": [
       "<Figure size 432x288 with 1 Axes>"
      ]
     },
     "metadata": {
      "needs_background": "light"
     },
     "output_type": "display_data"
    }
   ],
   "source": [
    "def plot_roc_curve(fpr, tpr):\n",
    "    plt.plot(fpr, tpr, color='orange', label='ROC')\n",
    "    plt.plot([0, 1], [0, 1], color='darkblue', linestyle='--')\n",
    "    plt.xlabel('False Positive Rate')\n",
    "    plt.ylabel('True Positive Rate')\n",
    "    plt.title('Receiver Operating Characteristic (ROC) Curve')\n",
    "    plt.legend()\n",
    "    plt.show()\n",
    "\n",
    "\n",
    "model = XGBClassifier()\n",
    "model.fit(x_train, y_train)\n",
    "\n",
    "probs = model.predict_proba(x_test)\n",
    "\n",
    "probs = probs[:, 1]\n",
    "\n",
    "auc = roc_auc_score(y_test, probs)\n",
    "print('AUC: %.2f' % auc)\n",
    "\n",
    "fpr, tpr, thresholds = roc_curve(y_test, probs)\n",
    "plot_roc_curve(fpr, tpr)"
   ]
  },
  {
   "cell_type": "markdown",
   "id": "bb3fc7d4",
   "metadata": {},
   "source": [
    "# Comparing ML Classifier Models"
   ]
  },
  {
   "cell_type": "code",
   "execution_count": 761,
   "id": "c3e28332",
   "metadata": {},
   "outputs": [
    {
     "data": {
      "text/html": [
       "<div>\n",
       "<style scoped>\n",
       "    .dataframe tbody tr th:only-of-type {\n",
       "        vertical-align: middle;\n",
       "    }\n",
       "\n",
       "    .dataframe tbody tr th {\n",
       "        vertical-align: top;\n",
       "    }\n",
       "\n",
       "    .dataframe thead th {\n",
       "        text-align: right;\n",
       "    }\n",
       "</style>\n",
       "<table border=\"1\" class=\"dataframe\">\n",
       "  <thead>\n",
       "    <tr style=\"text-align: right;\">\n",
       "      <th></th>\n",
       "      <th>Algorithm</th>\n",
       "      <th>Accuracy</th>\n",
       "    </tr>\n",
       "  </thead>\n",
       "  <tbody>\n",
       "    <tr>\n",
       "      <th>3</th>\n",
       "      <td>Support Vector Machine</td>\n",
       "      <td>89.776358</td>\n",
       "    </tr>\n",
       "    <tr>\n",
       "      <th>4</th>\n",
       "      <td>XGBoost Algorithm (XGB)</td>\n",
       "      <td>87.539936</td>\n",
       "    </tr>\n",
       "    <tr>\n",
       "      <th>0</th>\n",
       "      <td>K-Nearest Neighbors (KNN)</td>\n",
       "      <td>86.900958</td>\n",
       "    </tr>\n",
       "    <tr>\n",
       "      <th>1</th>\n",
       "      <td>Random Forest</td>\n",
       "      <td>86.900958</td>\n",
       "    </tr>\n",
       "    <tr>\n",
       "      <th>2</th>\n",
       "      <td>Gradient Boosting</td>\n",
       "      <td>86.261981</td>\n",
       "    </tr>\n",
       "  </tbody>\n",
       "</table>\n",
       "</div>"
      ],
      "text/plain": [
       "                   Algorithm   Accuracy\n",
       "3     Support Vector Machine  89.776358\n",
       "4    XGBoost Algorithm (XGB)  87.539936\n",
       "0  K-Nearest Neighbors (KNN)  86.900958\n",
       "1              Random Forest  86.900958\n",
       "2          Gradient Boosting  86.261981"
      ]
     },
     "execution_count": 761,
     "metadata": {},
     "output_type": "execute_result"
    }
   ],
   "source": [
    "results_123 = pd.DataFrame([\n",
    "\n",
    "    {'Algorithm' : 'K-Nearest Neighbors (KNN)', 'Accuracy' : knn_result*100},\n",
    "    \n",
    "    {'Algorithm' : 'Random Forest', 'Accuracy' : rf_result*100},\n",
    "    \n",
    "    {'Algorithm' : 'Gradient Boosting', 'Accuracy' : clf_result*100},\n",
    "    \n",
    "    {'Algorithm' : 'Support Vector Machine', 'Accuracy' : svm_result*100},\n",
    "    \n",
    "    {'Algorithm' : 'XGBoost Algorithm (XGB)', 'Accuracy' : xgb_result*100}\n",
    "    \n",
    "   \n",
    "\n",
    "])\n",
    "\n",
    "results_123.sort_values(by=['Accuracy'], ascending=False)"
   ]
  },
  {
   "cell_type": "markdown",
   "id": "4df38e29",
   "metadata": {},
   "source": [
    "# Tunning Parameters"
   ]
  },
  {
   "cell_type": "code",
   "execution_count": 769,
   "id": "a8b142ef",
   "metadata": {},
   "outputs": [
    {
     "name": "stdout",
     "output_type": "stream",
     "text": [
      "Accuracy: 87.53993610223642\n"
     ]
    }
   ],
   "source": [
    "model=KNeighborsClassifier(algorithm='auto', leaf_size=30, metric='minkowski',\n",
    "                     metric_params=None, n_jobs=None, n_neighbors=5, p=2,\n",
    "                     weights='uniform')\n",
    "model=model.fit(x_train,y_train)\n",
    "result=model.predict(x_test)\n",
    "dt_result = accuracy_score(y_test,y_pred)\n",
    "print(\"Accuracy:\",dt_result*100)"
   ]
  },
  {
   "cell_type": "code",
   "execution_count": null,
   "id": "31fe2afa",
   "metadata": {},
   "outputs": [],
   "source": []
  }
 ],
 "metadata": {
  "kernelspec": {
   "display_name": "Python 3",
   "language": "python",
   "name": "python3"
  },
  "language_info": {
   "codemirror_mode": {
    "name": "ipython",
    "version": 3
   },
   "file_extension": ".py",
   "mimetype": "text/x-python",
   "name": "python",
   "nbconvert_exporter": "python",
   "pygments_lexer": "ipython3",
   "version": "3.8.8"
  }
 },
 "nbformat": 4,
 "nbformat_minor": 5
}
